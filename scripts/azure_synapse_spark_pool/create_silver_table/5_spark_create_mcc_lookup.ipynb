{
  "nbformat": 4,
  "nbformat_minor": 2,
  "metadata": {
    "language_info": {
      "name": "python"
    },
    "kernelspec": {
      "name": "synapse_pyspark",
      "display_name": "python"
    },
    "description": null,
    "save_output": true,
    "synapse_widget": {
      "version": "0.1",
      "state": {
        "ccd95006-c284-4012-a468-64b4db18a9a1": {
          "type": "Synapse.DataFrame",
          "sync_state": {
            "table": {
              "rows": [
                {
                  "0": "074210",
                  "1": "Dịch vụ thú y"
                },
                {
                  "0": "074310",
                  "1": "Cung cấp rượu"
                },
                {
                  "0": "074410",
                  "1": "Cung cấp rượu vang"
                },
                {
                  "0": "076310",
                  "1": "Hợp tác xã nông nghiệp"
                },
                {
                  "0": "078010",
                  "1": "Thiết kế sân vườn và dịch vụ làm vườn "
                },
                {
                  "0": "152010",
                  "1": "Nhà thầu Khu dân cư và thương mại"
                },
                {
                  "0": "171110",
                  "1": "Nhà thầu hệ thống Sưởi nước điều hòa nhiệt độ"
                },
                {
                  "0": "173110",
                  "1": "Nhà thầu hệ thống Điện"
                },
                {
                  "0": "174010",
                  "1": "Nhà thầu phần thô khối xây thô phần xây đá trát"
                },
                {
                  "0": "175010",
                  "1": "Nhà thầu phần Mộc"
                },
                {
                  "0": "179910",
                  "1": "Nhà thầu Thương Mại đặc biệt"
                },
                {
                  "0": "274110",
                  "1": "Phân phối xuất bản sách "
                },
                {
                  "0": "279110",
                  "1": "Cắt chữ lắp chữ biển báo và các dịch vụ liên quan"
                },
                {
                  "0": "284210",
                  "1": "Phân phối chất tẩy rửa"
                },
                {
                  "0": "411100",
                  "1": "Vé xe khách"
                },
                {
                  "0": "411110",
                  "1": "Vận tải hành khách đường sắt "
                },
                {
                  "0": "411200",
                  "1": "Vé tàu"
                },
                {
                  "0": "411210",
                  "1": "Vận tải hành khách đường sắt"
                },
                {
                  "0": "411910",
                  "1": "Dịch vụ xe cứu thương"
                },
                {
                  "0": "412110",
                  "1": "Taxi"
                }
              ],
              "schema": [
                {
                  "key": "0",
                  "name": "mcc",
                  "type": "string"
                },
                {
                  "key": "1",
                  "name": "mcc_name",
                  "type": "string"
                }
              ],
              "truncated": false
            },
            "isSummary": false,
            "language": "scala",
            "wranglerEntryContext": {
              "dataframeType": "pyspark"
            }
          },
          "persist_state": {
            "view": {
              "type": "details",
              "tableOptions": {},
              "chartOptions": {
                "chartType": "bar",
                "aggregationType": "count",
                "categoryFieldKeys": [
                  "0"
                ],
                "seriesFieldKeys": [
                  "0"
                ],
                "isStacked": false
              }
            }
          }
        }
      }
    }
  },
  "cells": [
    {
      "cell_type": "code",
      "execution_count": 12,
      "outputs": [
        {
          "output_type": "display_data",
          "data": {
            "application/vnd.livy.statement-meta+json": {
              "spark_pool": "vnpaypool3",
              "statement_id": 12,
              "statement_ids": [
                12
              ],
              "state": "finished",
              "livy_statement_state": "available",
              "spark_jobs": null,
              "session_id": "8",
              "normalized_state": "finished",
              "queued_time": "2025-08-28T18:37:55.7887296Z",
              "session_start_time": null,
              "execution_start_time": "2025-08-28T18:37:55.7898986Z",
              "execution_finish_time": "2025-08-28T18:37:56.0272924Z",
              "parent_msg_id": "a2903179-da03-49e9-81e1-21dfd7f2fcf0"
            },
            "text/plain": "StatementMeta(vnpaypool3, 8, 12, Finished, Available, Finished)"
          },
          "metadata": {}
        }
      ],
      "metadata": {},
      "source": [
        "#Set the folder paths so that it can be used later. \n",
        "bronze_folder_path = 'abfss://bronze@vnpayproject.dfs.core.windows.net/'\n",
        "silver_folder_path = 'abfss://silver@vnpayproject.dfs.core.windows.net/__unitystorage/schemas/72c947f6-1c6b-4578-9cc6-f65e3f3118a7/tables/'\n",
        "new_silver_folder_path = 'abfss://silver@vnpayproject.dfs.core.windows.net/'\n",
        "gold_folder_path = 'abfss://gold@vnpayproject.dfs.core.windows.net/'"
      ]
    },
    {
      "cell_type": "code",
      "execution_count": 13,
      "outputs": [
        {
          "output_type": "display_data",
          "data": {
            "application/vnd.livy.statement-meta+json": {
              "spark_pool": "vnpaypool3",
              "statement_id": 13,
              "statement_ids": [
                13
              ],
              "state": "finished",
              "livy_statement_state": "available",
              "spark_jobs": null,
              "session_id": "8",
              "normalized_state": "finished",
              "queued_time": "2025-08-28T18:37:57.0996649Z",
              "session_start_time": null,
              "execution_start_time": "2025-08-28T18:37:57.1008376Z",
              "execution_finish_time": "2025-08-28T18:37:58.2756942Z",
              "parent_msg_id": "a2bab4d3-6378-4fa7-8c74-0cf816199349"
            },
            "text/plain": "StatementMeta(vnpaypool3, 8, 13, Finished, Available, Finished)"
          },
          "metadata": {}
        }
      ],
      "metadata": {},
      "source": [
        "# Option 1: Read with schema enforcement\n",
        "df = spark.read.format(\"delta\") \\\n",
        "    .option(\"mergeSchema\", \"false\") \\\n",
        "    .load(f\"{silver_folder_path}/86cf96be-053c-4192-9065-4a2bb74c61db\")"
      ]
    },
    {
      "cell_type": "code",
      "execution_count": 14,
      "outputs": [
        {
          "output_type": "display_data",
          "data": {
            "application/vnd.livy.statement-meta+json": {
              "spark_pool": "vnpaypool3",
              "statement_id": 14,
              "statement_ids": [
                14
              ],
              "state": "finished",
              "livy_statement_state": "available",
              "spark_jobs": null,
              "session_id": "8",
              "normalized_state": "finished",
              "queued_time": "2025-08-28T18:38:00.9459526Z",
              "session_start_time": null,
              "execution_start_time": "2025-08-28T18:38:00.9471168Z",
              "execution_finish_time": "2025-08-28T18:38:13.5939058Z",
              "parent_msg_id": "75acb6a4-1a19-4c85-a1c2-1e4db0bdf091"
            },
            "text/plain": "StatementMeta(vnpaypool3, 8, 14, Finished, Available, Finished)"
          },
          "metadata": {}
        },
        {
          "output_type": "display_data",
          "data": {
            "application/vnd.synapse.widget-view+json": {
              "widget_id": "ccd95006-c284-4012-a468-64b4db18a9a1",
              "widget_type": "Synapse.DataFrame"
            },
            "text/plain": "SynapseWidget(Synapse.DataFrame, ccd95006-c284-4012-a468-64b4db18a9a1)"
          },
          "metadata": {}
        }
      ],
      "metadata": {
        "collapsed": false
      },
      "source": [
        "display(df.limit(20))"
      ]
    },
    {
      "cell_type": "code",
      "execution_count": 15,
      "outputs": [
        {
          "output_type": "display_data",
          "data": {
            "application/vnd.livy.statement-meta+json": {
              "spark_pool": "vnpaypool3",
              "statement_id": 15,
              "statement_ids": [
                15
              ],
              "state": "finished",
              "livy_statement_state": "available",
              "spark_jobs": null,
              "session_id": "8",
              "normalized_state": "finished",
              "queued_time": "2025-08-28T18:38:46.5230027Z",
              "session_start_time": null,
              "execution_start_time": "2025-08-28T18:38:46.5241969Z",
              "execution_finish_time": "2025-08-28T18:38:50.5274761Z",
              "parent_msg_id": "1eb9612a-07e6-443f-801e-9e09684e91ca"
            },
            "text/plain": "StatementMeta(vnpaypool3, 8, 15, Finished, Available, Finished)"
          },
          "metadata": {}
        }
      ],
      "metadata": {},
      "source": [
        "# Write to Delta Lake in new location\n",
        "df.write \\\n",
        "    .format(\"delta\") \\\n",
        "    .mode(\"overwrite\") \\\n",
        "    .save(f\"{new_silver_folder_path}/mcc_lookup\")"
      ]
    },
    {
      "cell_type": "code",
      "execution_count": 16,
      "outputs": [
        {
          "output_type": "display_data",
          "data": {
            "application/vnd.livy.statement-meta+json": {
              "spark_pool": "vnpaypool3",
              "statement_id": 16,
              "statement_ids": [
                16
              ],
              "state": "finished",
              "livy_statement_state": "available",
              "spark_jobs": null,
              "session_id": "8",
              "normalized_state": "finished",
              "queued_time": "2025-08-28T18:38:48.604505Z",
              "session_start_time": null,
              "execution_start_time": "2025-08-28T18:38:50.5383123Z",
              "execution_finish_time": "2025-08-28T18:38:54.5030481Z",
              "parent_msg_id": "24441bfe-7022-45c8-8793-a6014cbc1ca7"
            },
            "text/plain": "StatementMeta(vnpaypool3, 8, 16, Finished, Available, Finished)"
          },
          "metadata": {}
        },
        {
          "output_type": "execute_result",
          "data": {
            "text/plain": "DataFrame[]"
          },
          "execution_count": 31,
          "metadata": {}
        }
      ],
      "metadata": {},
      "source": [
        "# Create External Table pointing to existing Delta Lake location\n",
        "spark.sql(f\"\"\"\n",
        "    CREATE TABLE IF NOT EXISTS vnpay_silver_spark.mcc_lookup\n",
        "    USING DELTA\n",
        "    LOCATION '{new_silver_folder_path}/mcc_lookup'\n",
        "\"\"\")"
      ]
    }
  ]
}