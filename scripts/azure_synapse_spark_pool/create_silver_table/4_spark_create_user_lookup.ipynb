{
  "nbformat": 4,
  "nbformat_minor": 2,
  "metadata": {
    "language_info": {
      "name": "python"
    },
    "kernelspec": {
      "name": "synapse_pyspark",
      "display_name": "python"
    },
    "description": null,
    "save_output": true,
    "synapse_widget": {
      "version": "0.1",
      "state": {
        "791e9099-6004-46ab-8b85-39c64dc98cb3": {
          "type": "Synapse.DataFrame",
          "sync_state": {
            "table": {
              "rows": [
                {
                  "0": "4",
                  "1": "  NGUYEN KIM DONG",
                  "2": "0373473342",
                  "3": "0373473342",
                  "4": "MSBANK",
                  "5": "9704269973515290",
                  "6": "Thẻ nội địa",
                  "7": "2025-07-19 04:06:53.274046"
                },
                {
                  "0": "8",
                  "1": " A A",
                  "2": "0352324931",
                  "3": "0352324931",
                  "4": "MSBANK",
                  "5": "9704269975624769",
                  "6": "Thẻ nội địa",
                  "7": "2025-07-19 04:06:53.274046"
                },
                {
                  "0": "9",
                  "1": " AI LINH",
                  "2": "0852893621",
                  "3": "0852893621",
                  "4": "MSBANK",
                  "5": "9704269970620986",
                  "6": "Thẻ nội địa",
                  "7": "2025-07-19 04:06:53.274046"
                },
                {
                  "0": "17",
                  "1": " CONG TY CO PHAN DICH VU TICH HOP CONG NGHE PLS",
                  "2": "0907603537",
                  "3": "0907603537",
                  "4": "VNPTPAY",
                  "5": "0907603537",
                  "6": "Tài khoản ví",
                  "7": "2025-07-19 04:06:53.274046"
                },
                {
                  "0": "35",
                  "1": " Do Ngoc Vinh",
                  "2": "0944022792",
                  "3": "0944022792",
                  "4": "VNPTPAY",
                  "5": "0944022792",
                  "6": "Tài khoản nội địa",
                  "7": "2025-07-19 04:06:53.274046"
                },
                {
                  "0": "37",
                  "1": " Doan Thi Thuy",
                  "2": "0326436535",
                  "3": "0326436535",
                  "4": "1PAY",
                  "5": "0326436535",
                  "6": "Tài khoản nội địa",
                  "7": "2025-07-19 04:06:53.274046"
                },
                {
                  "0": "55",
                  "1": " LE THI HAI YEN",
                  "2": "0762674399",
                  "3": "0762674399",
                  "4": "NAMABANK",
                  "5": "419111819200001",
                  "6": "Tài khoản nội địa",
                  "7": "2025-07-19 04:06:53.274046"
                },
                {
                  "0": "59",
                  "1": " LE THI TRANG ",
                  "2": "0000000544",
                  "3": "0000000544",
                  "4": "TECHCOMBANK",
                  "5": "19030000000017",
                  "6": "Tài khoản nội địa",
                  "7": "2025-07-19 04:06:53.274046"
                },
                {
                  "0": "61",
                  "1": " LIEN HOANG LONG  ",
                  "2": "0848449922",
                  "3": "0848449922",
                  "4": "IVB",
                  "5": "6367296-001",
                  "6": "Tài khoản nội địa",
                  "7": "2025-07-19 04:06:53.274046"
                },
                {
                  "0": "72",
                  "1": " NGO THUY HANG",
                  "2": "0000000428",
                  "3": "0000000428",
                  "4": "TECHCOMBANK",
                  "5": "19030000000015",
                  "6": "Tài khoản nội địa",
                  "7": "2025-07-19 04:06:53.274046"
                },
                {
                  "0": "88",
                  "1": " NGUYEN THANH CUONG",
                  "2": "0977494552",
                  "3": "0977494552",
                  "4": "EXIMBANK",
                  "5": "1410xxxxxxx5319",
                  "6": "Tài khoản nội địa",
                  "7": "2025-07-19 04:06:53.274046"
                },
                {
                  "0": "100",
                  "1": " NGÔ TH? NH?T",
                  "2": "0971989997",
                  "3": "0971989997",
                  "4": "VNPAYEWALLET",
                  "5": "4211010084411596441881",
                  "6": "Tài khoản ví",
                  "7": "2025-07-19 04:06:53.274046"
                },
                {
                  "0": "107",
                  "1": " OI TOI",
                  "2": "0342799590",
                  "3": "0342799590",
                  "4": "MSBANK",
                  "5": "9704269978905827",
                  "6": "Thẻ nội địa",
                  "7": "2025-07-19 04:06:53.274046"
                },
                {
                  "0": "114",
                  "1": " PHAM THIEN DUONG",
                  "2": "0000000000",
                  "3": "0000000000",
                  "4": "TPBANK",
                  "5": "*****491901",
                  "6": "Tài khoản nội địa",
                  "7": "2025-07-19 04:06:53.274046"
                },
                {
                  "0": "127",
                  "1": " TRUONG NGOC TRIEU ",
                  "2": "0878364981",
                  "3": "0878364981",
                  "4": "IVB",
                  "5": "6367375-001",
                  "6": "Tài khoản nội địa",
                  "7": "2025-07-19 04:06:53.274046"
                },
                {
                  "0": "173",
                  "1": "00004138",
                  "2": "0789183326",
                  "3": "0789183326",
                  "4": "VIETCAPITALBANK",
                  "5": "0067041000284",
                  "6": "Tài khoản nội địa",
                  "7": "2025-07-19 04:06:53.274046"
                },
                {
                  "0": "175",
                  "1": "00004139",
                  "2": "0939776009",
                  "3": "0939776009",
                  "4": "VIETCAPITALBANK",
                  "5": "0067041000155",
                  "6": "Tài khoản nội địa",
                  "7": "2025-07-19 04:06:53.274046"
                },
                {
                  "0": "179",
                  "1": "0000419170",
                  "2": "0903660682",
                  "3": "0903660682",
                  "4": "SCB",
                  "5": "0120100035580001",
                  "7": "2025-07-19 04:06:53.274046"
                },
                {
                  "0": "189",
                  "1": "00009035",
                  "2": "0983103579",
                  "3": "0983103579",
                  "4": "VIETCAPITALBANK",
                  "5": "0047041000263",
                  "6": "Tài khoản nội địa",
                  "7": "2025-07-19 04:06:53.274046"
                },
                {
                  "0": "217",
                  "1": "00012252",
                  "2": "0932154779",
                  "3": "0932154779",
                  "4": "VIETCAPITALBANK",
                  "5": "0687041000680",
                  "6": "Tài khoản nội địa",
                  "7": "2025-07-19 04:06:53.274046"
                }
              ],
              "schema": [
                {
                  "key": "0",
                  "name": "user_id",
                  "type": "int"
                },
                {
                  "key": "1",
                  "name": "ten_kh_thanh_toan",
                  "type": "string"
                },
                {
                  "key": "2",
                  "name": "so_dien_thoai_moi",
                  "type": "string"
                },
                {
                  "key": "3",
                  "name": "so_dien_thoai",
                  "type": "string"
                },
                {
                  "key": "4",
                  "name": "don_vi_tt",
                  "type": "string"
                },
                {
                  "key": "5",
                  "name": "so_tai_khoan",
                  "type": "string"
                },
                {
                  "key": "6",
                  "name": "loai_the_tai_khoan",
                  "type": "string"
                },
                {
                  "key": "7",
                  "name": "ingestion_date",
                  "type": "timestamp"
                }
              ],
              "truncated": false
            },
            "isSummary": false,
            "language": "scala",
            "wranglerEntryContext": {
              "dataframeType": "pyspark"
            }
          },
          "persist_state": {
            "view": {
              "type": "details",
              "tableOptions": {},
              "chartOptions": {
                "chartType": "bar",
                "aggregationType": "sum",
                "categoryFieldKeys": [
                  "1"
                ],
                "seriesFieldKeys": [
                  "0"
                ],
                "isStacked": false
              }
            }
          }
        }
      }
    }
  },
  "cells": [
    {
      "cell_type": "code",
      "execution_count": 2,
      "outputs": [
        {
          "output_type": "display_data",
          "data": {
            "application/vnd.livy.statement-meta+json": {
              "spark_pool": "vnpaypool3",
              "statement_id": 3,
              "statement_ids": [
                3
              ],
              "state": "finished",
              "livy_statement_state": "available",
              "spark_jobs": null,
              "session_id": "6",
              "normalized_state": "finished",
              "queued_time": "2025-08-28T18:12:38.1671617Z",
              "session_start_time": null,
              "execution_start_time": "2025-08-28T18:12:38.1683602Z",
              "execution_finish_time": "2025-08-28T18:12:38.4074279Z",
              "parent_msg_id": "07384321-bf8b-457b-a01f-33acd13bef91"
            },
            "text/plain": "StatementMeta(vnpaypool3, 6, 3, Finished, Available, Finished)"
          },
          "metadata": {}
        }
      ],
      "metadata": {},
      "source": [
        "#Set the folder paths so that it can be used later. \n",
        "bronze_folder_path = 'abfss://bronze@vnpayproject.dfs.core.windows.net/'\n",
        "silver_folder_path = 'abfss://silver@vnpayproject.dfs.core.windows.net/__unitystorage/schemas/72c947f6-1c6b-4578-9cc6-f65e3f3118a7/tables/'\n",
        "new_silver_folder_path = 'abfss://silver@vnpayproject.dfs.core.windows.net/'\n",
        "gold_folder_path = 'abfss://gold@vnpayproject.dfs.core.windows.net/'"
      ]
    },
    {
      "cell_type": "code",
      "execution_count": 8,
      "outputs": [
        {
          "output_type": "display_data",
          "data": {
            "application/vnd.livy.statement-meta+json": {
              "spark_pool": "vnpaypool3",
              "statement_id": 9,
              "statement_ids": [
                9
              ],
              "state": "finished",
              "livy_statement_state": "available",
              "spark_jobs": null,
              "session_id": "6",
              "normalized_state": "finished",
              "queued_time": "2025-08-28T18:22:02.6572516Z",
              "session_start_time": null,
              "execution_start_time": "2025-08-28T18:22:02.6584722Z",
              "execution_finish_time": "2025-08-28T18:22:06.6224972Z",
              "parent_msg_id": "44909a4d-6f36-4ce3-b2c9-3119fea66d51"
            },
            "text/plain": "StatementMeta(vnpaypool3, 6, 9, Finished, Available, Finished)"
          },
          "metadata": {}
        }
      ],
      "metadata": {},
      "source": [
        "# Option 1: Read with schema enforcement\n",
        "df = spark.read.format(\"delta\") \\\n",
        "    .option(\"mergeSchema\", \"false\") \\\n",
        "    .load(f\"{silver_folder_path}/804829e8-18dd-4c64-9dbf-cb76e001e306\")"
      ]
    },
    {
      "cell_type": "code",
      "execution_count": 9,
      "outputs": [
        {
          "output_type": "display_data",
          "data": {
            "application/vnd.livy.statement-meta+json": {
              "spark_pool": "vnpaypool3",
              "statement_id": 10,
              "statement_ids": [
                10
              ],
              "state": "finished",
              "livy_statement_state": "available",
              "spark_jobs": null,
              "session_id": "6",
              "normalized_state": "finished",
              "queued_time": "2025-08-28T18:22:07.745951Z",
              "session_start_time": null,
              "execution_start_time": "2025-08-28T18:22:07.7470902Z",
              "execution_finish_time": "2025-08-28T18:22:20.5507389Z",
              "parent_msg_id": "7111b390-3d7d-4c9a-a671-9a73fc4221a9"
            },
            "text/plain": "StatementMeta(vnpaypool3, 6, 10, Finished, Available, Finished)"
          },
          "metadata": {}
        },
        {
          "output_type": "display_data",
          "data": {
            "application/vnd.synapse.widget-view+json": {
              "widget_id": "791e9099-6004-46ab-8b85-39c64dc98cb3",
              "widget_type": "Synapse.DataFrame"
            },
            "text/plain": "SynapseWidget(Synapse.DataFrame, 791e9099-6004-46ab-8b85-39c64dc98cb3)"
          },
          "metadata": {}
        }
      ],
      "metadata": {
        "collapsed": false
      },
      "source": [
        "display(df.limit(20))"
      ]
    },
    {
      "cell_type": "code",
      "execution_count": 10,
      "outputs": [
        {
          "output_type": "display_data",
          "data": {
            "application/vnd.livy.statement-meta+json": {
              "spark_pool": "vnpaypool3",
              "statement_id": 11,
              "statement_ids": [
                11
              ],
              "state": "finished",
              "livy_statement_state": "available",
              "spark_jobs": null,
              "session_id": "6",
              "normalized_state": "finished",
              "queued_time": "2025-08-28T18:26:17.8465553Z",
              "session_start_time": null,
              "execution_start_time": "2025-08-28T18:26:17.8477609Z",
              "execution_finish_time": "2025-08-28T18:26:44.9251929Z",
              "parent_msg_id": "183f2e74-8bb2-4da3-8394-8f26889899d4"
            },
            "text/plain": "StatementMeta(vnpaypool3, 6, 11, Finished, Available, Finished)"
          },
          "metadata": {}
        }
      ],
      "metadata": {},
      "source": [
        "# Write to Delta Lake in new location\n",
        "df.write \\\n",
        "    .format(\"delta\") \\\n",
        "    .mode(\"overwrite\") \\\n",
        "    .save(f\"{new_silver_folder_path}/user_lookup\")"
      ]
    },
    {
      "cell_type": "code",
      "execution_count": 11,
      "outputs": [
        {
          "output_type": "display_data",
          "data": {
            "application/vnd.livy.statement-meta+json": {
              "spark_pool": "vnpaypool3",
              "statement_id": 12,
              "statement_ids": [
                12
              ],
              "state": "finished",
              "livy_statement_state": "available",
              "spark_jobs": null,
              "session_id": "6",
              "normalized_state": "finished",
              "queued_time": "2025-08-28T18:26:19.0030408Z",
              "session_start_time": null,
              "execution_start_time": "2025-08-28T18:26:44.9391384Z",
              "execution_finish_time": "2025-08-28T18:26:47.8015591Z",
              "parent_msg_id": "3f08638b-db2d-4737-88cf-ea969e5aeb19"
            },
            "text/plain": "StatementMeta(vnpaypool3, 6, 12, Finished, Available, Finished)"
          },
          "metadata": {}
        },
        {
          "output_type": "execute_result",
          "data": {
            "text/plain": "DataFrame[]"
          },
          "execution_count": 25,
          "metadata": {}
        }
      ],
      "metadata": {},
      "source": [
        "# Create External Table pointing to existing Delta Lake location\n",
        "spark.sql(f\"\"\"\n",
        "    CREATE TABLE IF NOT EXISTS vnpay_silver_spark.user_lookup\n",
        "    USING DELTA\n",
        "    LOCATION '{new_silver_folder_path}/user_lookup'\n",
        "\"\"\")"
      ]
    }
  ]
}