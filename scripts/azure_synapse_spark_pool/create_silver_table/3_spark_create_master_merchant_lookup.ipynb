{
  "nbformat": 4,
  "nbformat_minor": 2,
  "metadata": {
    "language_info": {
      "name": "python"
    },
    "kernelspec": {
      "name": "synapse_pyspark",
      "display_name": "python"
    },
    "description": null,
    "save_output": true,
    "synapse_widget": {
      "version": "0.1",
      "state": {
        "7fe34c06-6b74-49b9-bdf0-34ea3f7ab1e8": {
          "type": "Synapse.DataFrame",
          "sync_state": {
            "table": {
              "rows": [
                {
                  "0": "1",
                  "1": "AGRIBANK"
                },
                {
                  "0": "2",
                  "1": "BIDV"
                },
                {
                  "0": "3",
                  "1": "HDB"
                },
                {
                  "0": "4",
                  "1": "MBBANK"
                },
                {
                  "0": "5",
                  "1": "MSB"
                },
                {
                  "0": "6",
                  "1": "NAB"
                },
                {
                  "0": "7",
                  "1": "PVCB"
                },
                {
                  "0": "8",
                  "1": "SCB"
                },
                {
                  "0": "9",
                  "1": "SHB"
                },
                {
                  "0": "10",
                  "1": "TPB"
                },
                {
                  "0": "11",
                  "1": "VIETCOMBANK"
                },
                {
                  "0": "12",
                  "1": "VIETINBANK"
                },
                {
                  "0": "13",
                  "1": "VNPAY"
                },
                {
                  "0": "14",
                  "1": "VNPTPAY"
                }
              ],
              "schema": [
                {
                  "key": "0",
                  "name": "master_merchant_id",
                  "type": "int"
                },
                {
                  "key": "1",
                  "name": "master_mc",
                  "type": "string"
                }
              ],
              "truncated": false
            },
            "isSummary": false,
            "language": "scala",
            "wranglerEntryContext": {
              "dataframeType": "pyspark"
            }
          },
          "persist_state": {
            "view": {
              "type": "details",
              "tableOptions": {},
              "chartOptions": {
                "chartType": "bar",
                "aggregationType": "sum",
                "categoryFieldKeys": [
                  "1"
                ],
                "seriesFieldKeys": [
                  "0"
                ],
                "isStacked": false
              }
            }
          }
        }
      }
    }
  },
  "cells": [
    {
      "cell_type": "code",
      "execution_count": 2,
      "outputs": [
        {
          "output_type": "display_data",
          "data": {
            "application/vnd.livy.statement-meta+json": {
              "spark_pool": "vnpaypool3",
              "statement_id": 2,
              "statement_ids": [
                2
              ],
              "state": "finished",
              "livy_statement_state": "available",
              "spark_jobs": null,
              "session_id": "8",
              "normalized_state": "finished",
              "queued_time": "2025-08-28T18:29:57.3545598Z",
              "session_start_time": "2025-08-28T18:29:57.3555619Z",
              "execution_start_time": "2025-08-28T18:33:02.490833Z",
              "execution_finish_time": "2025-08-28T18:33:02.7404776Z",
              "parent_msg_id": "174a27b1-b198-4a0e-8b93-70dc5ee1ee11"
            },
            "text/plain": "StatementMeta(vnpaypool3, 8, 2, Finished, Available, Finished)"
          },
          "metadata": {}
        }
      ],
      "metadata": {},
      "source": [
        "#Set the folder paths so that it can be used later. \n",
        "bronze_folder_path = 'abfss://bronze@vnpayproject.dfs.core.windows.net/'\n",
        "silver_folder_path = 'abfss://silver@vnpayproject.dfs.core.windows.net/__unitystorage/schemas/72c947f6-1c6b-4578-9cc6-f65e3f3118a7/tables/'\n",
        "new_silver_folder_path = 'abfss://silver@vnpayproject.dfs.core.windows.net/'\n",
        "gold_folder_path = 'abfss://gold@vnpayproject.dfs.core.windows.net/'"
      ]
    },
    {
      "cell_type": "code",
      "execution_count": 7,
      "outputs": [
        {
          "output_type": "display_data",
          "data": {
            "application/vnd.livy.statement-meta+json": {
              "spark_pool": "vnpaypool3",
              "statement_id": 7,
              "statement_ids": [
                7
              ],
              "state": "finished",
              "livy_statement_state": "available",
              "spark_jobs": null,
              "session_id": "8",
              "normalized_state": "finished",
              "queued_time": "2025-08-28T18:35:38.5034439Z",
              "session_start_time": null,
              "execution_start_time": "2025-08-28T18:35:38.5046469Z",
              "execution_finish_time": "2025-08-28T18:35:38.7312166Z",
              "parent_msg_id": "c7873d5e-da71-435f-872a-ecc6eff5a600"
            },
            "text/plain": "StatementMeta(vnpaypool3, 8, 7, Finished, Available, Finished)"
          },
          "metadata": {}
        }
      ],
      "metadata": {},
      "source": [
        "# Option 1: Read with schema enforcement\n",
        "df = spark.read.format(\"delta\") \\\n",
        "    .option(\"mergeSchema\", \"false\") \\\n",
        "    .load(f\"{silver_folder_path}/6fb7ede2-166b-414d-9d45-9afac6330ab0\")"
      ]
    },
    {
      "cell_type": "code",
      "execution_count": 8,
      "outputs": [
        {
          "output_type": "display_data",
          "data": {
            "application/vnd.livy.statement-meta+json": {
              "spark_pool": "vnpaypool3",
              "statement_id": 8,
              "statement_ids": [
                8
              ],
              "state": "finished",
              "livy_statement_state": "available",
              "spark_jobs": null,
              "session_id": "8",
              "normalized_state": "finished",
              "queued_time": "2025-08-28T18:35:41.2327787Z",
              "session_start_time": null,
              "execution_start_time": "2025-08-28T18:35:41.233834Z",
              "execution_finish_time": "2025-08-28T18:35:43.1393613Z",
              "parent_msg_id": "aa353dca-f88a-4a61-bbb3-6a7e75e59b78"
            },
            "text/plain": "StatementMeta(vnpaypool3, 8, 8, Finished, Available, Finished)"
          },
          "metadata": {}
        },
        {
          "output_type": "display_data",
          "data": {
            "application/vnd.synapse.widget-view+json": {
              "widget_id": "7fe34c06-6b74-49b9-bdf0-34ea3f7ab1e8",
              "widget_type": "Synapse.DataFrame"
            },
            "text/plain": "SynapseWidget(Synapse.DataFrame, 7fe34c06-6b74-49b9-bdf0-34ea3f7ab1e8)"
          },
          "metadata": {}
        }
      ],
      "metadata": {
        "collapsed": false
      },
      "source": [
        "display(df.limit(20))"
      ]
    },
    {
      "cell_type": "code",
      "execution_count": 9,
      "outputs": [
        {
          "output_type": "display_data",
          "data": {
            "application/vnd.livy.statement-meta+json": {
              "spark_pool": "vnpaypool3",
              "statement_id": 9,
              "statement_ids": [
                9
              ],
              "state": "finished",
              "livy_statement_state": "available",
              "spark_jobs": null,
              "session_id": "8",
              "normalized_state": "finished",
              "queued_time": "2025-08-28T18:35:47.8242993Z",
              "session_start_time": null,
              "execution_start_time": "2025-08-28T18:35:47.8256001Z",
              "execution_finish_time": "2025-08-28T18:35:54.7559253Z",
              "parent_msg_id": "1321b714-e3ff-4f03-8342-c7badc2949b0"
            },
            "text/plain": "StatementMeta(vnpaypool3, 8, 9, Finished, Available, Finished)"
          },
          "metadata": {}
        }
      ],
      "metadata": {},
      "source": [
        "# Write to Delta Lake in new location\n",
        "df.write \\\n",
        "    .format(\"delta\") \\\n",
        "    .mode(\"overwrite\") \\\n",
        "    .save(f\"{new_silver_folder_path}/master_merchant_lookup\")"
      ]
    },
    {
      "cell_type": "code",
      "execution_count": 10,
      "outputs": [
        {
          "output_type": "display_data",
          "data": {
            "application/vnd.livy.statement-meta+json": {
              "spark_pool": "vnpaypool3",
              "statement_id": 10,
              "statement_ids": [
                10
              ],
              "state": "finished",
              "livy_statement_state": "available",
              "spark_jobs": null,
              "session_id": "8",
              "normalized_state": "finished",
              "queued_time": "2025-08-28T18:35:51.7495177Z",
              "session_start_time": null,
              "execution_start_time": "2025-08-28T18:35:54.7676158Z",
              "execution_finish_time": "2025-08-28T18:35:55.3592588Z",
              "parent_msg_id": "9c576ec2-b9c6-4d5a-b537-f43fb5b1f82f"
            },
            "text/plain": "StatementMeta(vnpaypool3, 8, 10, Finished, Available, Finished)"
          },
          "metadata": {}
        },
        {
          "output_type": "execute_result",
          "data": {
            "text/plain": "DataFrame[]"
          },
          "execution_count": 21,
          "metadata": {}
        }
      ],
      "metadata": {},
      "source": [
        "# Create External Table pointing to existing Delta Lake location\n",
        "spark.sql(f\"\"\"\n",
        "    CREATE TABLE IF NOT EXISTS vnpay_silver_spark.master_merchant_lookup\n",
        "    USING DELTA\n",
        "    LOCATION '{new_silver_folder_path}/master_merchant_lookup'\n",
        "\"\"\")"
      ]
    }
  ]
}