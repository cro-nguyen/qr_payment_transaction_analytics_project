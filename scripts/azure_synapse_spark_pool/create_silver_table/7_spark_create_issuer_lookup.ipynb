{
  "nbformat": 4,
  "nbformat_minor": 2,
  "metadata": {
    "language_info": {
      "name": "python"
    },
    "kernelspec": {
      "name": "synapse_pyspark",
      "display_name": "python"
    },
    "description": null,
    "save_output": true,
    "synapse_widget": {
      "version": "0.1",
      "state": {
        "00a48a58-83c7-4c6d-bb16-59109dd7cbd7": {
          "type": "Synapse.DataFrame",
          "sync_state": {
            "table": {
              "rows": [
                {
                  "0": "1",
                  "1": "1PAY"
                },
                {
                  "0": "2",
                  "1": "ABBANK"
                },
                {
                  "0": "3",
                  "1": "ACB"
                },
                {
                  "0": "4",
                  "1": "AGRIBANK"
                },
                {
                  "0": "5",
                  "1": "BACABANK"
                },
                {
                  "0": "6",
                  "1": "BAOKIM"
                },
                {
                  "0": "7",
                  "1": "BAOVIETBANK"
                },
                {
                  "0": "8",
                  "1": "BIDC"
                },
                {
                  "0": "9",
                  "1": "BIDV"
                },
                {
                  "0": "10",
                  "1": "COOPBANK"
                },
                {
                  "0": "11",
                  "1": "EXIMBANK"
                },
                {
                  "0": "12",
                  "1": "FOXPAY"
                },
                {
                  "0": "13",
                  "1": "HDBANK"
                },
                {
                  "0": "14",
                  "1": "IVB"
                },
                {
                  "0": "15",
                  "1": "KIENLONGBANK"
                },
                {
                  "0": "16",
                  "1": "MBBANK"
                },
                {
                  "0": "17",
                  "1": "MOMO"
                },
                {
                  "0": "18",
                  "1": "MSBANK"
                },
                {
                  "0": "19",
                  "1": "NAMABANK"
                },
                {
                  "0": "20",
                  "1": "NCB"
                }
              ],
              "schema": [
                {
                  "key": "0",
                  "name": "issuer_id",
                  "type": "int"
                },
                {
                  "key": "1",
                  "name": "issuer_name",
                  "type": "string"
                }
              ],
              "truncated": false
            },
            "isSummary": false,
            "language": "scala",
            "wranglerEntryContext": {
              "dataframeType": "pyspark"
            }
          },
          "persist_state": {
            "view": {
              "type": "details",
              "tableOptions": {},
              "chartOptions": {
                "chartType": "bar",
                "aggregationType": "sum",
                "categoryFieldKeys": [
                  "1"
                ],
                "seriesFieldKeys": [
                  "0"
                ],
                "isStacked": false
              }
            }
          }
        }
      }
    }
  },
  "cells": [
    {
      "cell_type": "code",
      "execution_count": 19,
      "outputs": [
        {
          "output_type": "display_data",
          "data": {
            "application/vnd.livy.statement-meta+json": {
              "spark_pool": "vnpaypool3",
              "statement_id": 3,
              "statement_ids": [
                3
              ],
              "state": "finished",
              "livy_statement_state": "available",
              "spark_jobs": null,
              "session_id": "9",
              "normalized_state": "finished",
              "queued_time": "2025-08-28T18:52:08.9311815Z",
              "session_start_time": null,
              "execution_start_time": "2025-08-28T18:52:08.9323761Z",
              "execution_finish_time": "2025-08-28T18:52:09.1771534Z",
              "parent_msg_id": "2087deef-ef16-44a4-8557-c8a7dc1c5f74"
            },
            "text/plain": "StatementMeta(vnpaypool3, 9, 3, Finished, Available, Finished)"
          },
          "metadata": {}
        }
      ],
      "metadata": {},
      "source": [
        "#Set the folder paths so that it can be used later. \n",
        "bronze_folder_path = 'abfss://bronze@vnpayproject.dfs.core.windows.net/'\n",
        "silver_folder_path = 'abfss://silver@vnpayproject.dfs.core.windows.net/__unitystorage/schemas/72c947f6-1c6b-4578-9cc6-f65e3f3118a7/tables/'\n",
        "new_silver_folder_path = 'abfss://silver@vnpayproject.dfs.core.windows.net/'\n",
        "gold_folder_path = 'abfss://gold@vnpayproject.dfs.core.windows.net/'"
      ]
    },
    {
      "cell_type": "code",
      "execution_count": 24,
      "outputs": [
        {
          "output_type": "display_data",
          "data": {
            "application/vnd.livy.statement-meta+json": {
              "spark_pool": "vnpaypool3",
              "statement_id": 8,
              "statement_ids": [
                8
              ],
              "state": "finished",
              "livy_statement_state": "available",
              "spark_jobs": null,
              "session_id": "9",
              "normalized_state": "finished",
              "queued_time": "2025-08-28T18:57:12.0296349Z",
              "session_start_time": null,
              "execution_start_time": "2025-08-28T18:57:12.0308099Z",
              "execution_finish_time": "2025-08-28T18:57:13.1677112Z",
              "parent_msg_id": "b9125541-36ed-4006-8d97-059f9729b485"
            },
            "text/plain": "StatementMeta(vnpaypool3, 9, 8, Finished, Available, Finished)"
          },
          "metadata": {}
        }
      ],
      "metadata": {},
      "source": [
        "# Option 1: Read with schema enforcement\n",
        "df = spark.read.format(\"delta\") \\\n",
        "    .option(\"mergeSchema\", \"false\") \\\n",
        "    .load(f\"{silver_folder_path}/e17c766e-c8f5-4224-8c01-eabfa93d0ac3\")"
      ]
    },
    {
      "cell_type": "code",
      "execution_count": 25,
      "outputs": [
        {
          "output_type": "display_data",
          "data": {
            "application/vnd.livy.statement-meta+json": {
              "spark_pool": "vnpaypool3",
              "statement_id": 9,
              "statement_ids": [
                9
              ],
              "state": "finished",
              "livy_statement_state": "available",
              "spark_jobs": null,
              "session_id": "9",
              "normalized_state": "finished",
              "queued_time": "2025-08-28T18:57:17.2239577Z",
              "session_start_time": null,
              "execution_start_time": "2025-08-28T18:57:17.2252588Z",
              "execution_finish_time": "2025-08-28T18:57:27.8413883Z",
              "parent_msg_id": "b4a17d5b-1903-4fb1-be77-e918e9e710db"
            },
            "text/plain": "StatementMeta(vnpaypool3, 9, 9, Finished, Available, Finished)"
          },
          "metadata": {}
        },
        {
          "output_type": "display_data",
          "data": {
            "application/vnd.synapse.widget-view+json": {
              "widget_id": "00a48a58-83c7-4c6d-bb16-59109dd7cbd7",
              "widget_type": "Synapse.DataFrame"
            },
            "text/plain": "SynapseWidget(Synapse.DataFrame, 00a48a58-83c7-4c6d-bb16-59109dd7cbd7)"
          },
          "metadata": {}
        }
      ],
      "metadata": {
        "collapsed": false
      },
      "source": [
        "display(df.limit(20))"
      ]
    },
    {
      "cell_type": "code",
      "execution_count": 26,
      "outputs": [
        {
          "output_type": "display_data",
          "data": {
            "application/vnd.livy.statement-meta+json": {
              "spark_pool": "vnpaypool3",
              "statement_id": 10,
              "statement_ids": [
                10
              ],
              "state": "finished",
              "livy_statement_state": "available",
              "spark_jobs": null,
              "session_id": "9",
              "normalized_state": "finished",
              "queued_time": "2025-08-28T18:57:59.3941007Z",
              "session_start_time": null,
              "execution_start_time": "2025-08-28T18:57:59.3952884Z",
              "execution_finish_time": "2025-08-28T18:58:03.4038465Z",
              "parent_msg_id": "261a470b-b95b-49b4-8d9c-b5365b2a1885"
            },
            "text/plain": "StatementMeta(vnpaypool3, 9, 10, Finished, Available, Finished)"
          },
          "metadata": {}
        }
      ],
      "metadata": {},
      "source": [
        "# Write to Delta Lake in new location\n",
        "df.write \\\n",
        "    .format(\"delta\") \\\n",
        "    .mode(\"overwrite\") \\\n",
        "    .save(f\"{new_silver_folder_path}/issuer_lookup\")"
      ]
    },
    {
      "cell_type": "code",
      "execution_count": 27,
      "outputs": [
        {
          "output_type": "display_data",
          "data": {
            "application/vnd.livy.statement-meta+json": {
              "spark_pool": "vnpaypool3",
              "statement_id": 11,
              "statement_ids": [
                11
              ],
              "state": "finished",
              "livy_statement_state": "available",
              "spark_jobs": null,
              "session_id": "9",
              "normalized_state": "finished",
              "queued_time": "2025-08-28T18:58:00.3297924Z",
              "session_start_time": null,
              "execution_start_time": "2025-08-28T18:58:03.4189816Z",
              "execution_finish_time": "2025-08-28T18:58:06.2925033Z",
              "parent_msg_id": "34fc1db3-db64-4245-97e0-8323a151cb5e"
            },
            "text/plain": "StatementMeta(vnpaypool3, 9, 11, Finished, Available, Finished)"
          },
          "metadata": {}
        },
        {
          "output_type": "execute_result",
          "data": {
            "text/plain": "DataFrame[]"
          },
          "execution_count": 23,
          "metadata": {}
        }
      ],
      "metadata": {},
      "source": [
        "# Create External Table pointing to existing Delta Lake location\n",
        "spark.sql(f\"\"\"\n",
        "    CREATE TABLE IF NOT EXISTS vnpay_silver_spark.issuer_lookup\n",
        "    USING DELTA\n",
        "    LOCATION '{new_silver_folder_path}/issuer_lookup'\n",
        "\"\"\")"
      ]
    }
  ]
}