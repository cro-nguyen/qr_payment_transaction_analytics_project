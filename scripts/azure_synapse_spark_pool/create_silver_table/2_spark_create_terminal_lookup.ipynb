{
  "nbformat": 4,
  "nbformat_minor": 2,
  "metadata": {
    "language_info": {
      "name": "python"
    },
    "kernelspec": {
      "name": "synapse_pyspark",
      "display_name": "python"
    },
    "description": null,
    "save_output": true,
    "synapse_widget": {
      "version": "0.1",
      "state": {
        "32e7cd15-8ef5-4259-8568-3fca8a8104f4": {
          "type": "Synapse.DataFrame",
          "sync_state": {
            "table": {
              "rows": [
                {
                  "0": "1",
                  "1": "TEST3",
                  "2": "000000000001",
                  "3": "MBBANK",
                  "4": "Test Terminal",
                  "5": "TEST31",
                  "6": "000000000001_TEST31 - Test Terminal",
                  "7": "4"
                },
                {
                  "0": "2",
                  "1": "ARTGALLERY",
                  "2": "00000001M003447",
                  "3": "VNPAY",
                  "4": "ARTGALLERY",
                  "5": "ART0001",
                  "6": "00000001M003447_ART0001 - ARTGALLERY",
                  "7": "5"
                },
                {
                  "0": "3",
                  "1": "REDSUN",
                  "2": "000000102646635",
                  "3": "VNPAY",
                  "4": "REDSUN",
                  "5": "20181174",
                  "6": "000000102646635_20181174 - REDSUN",
                  "7": "6"
                },
                {
                  "0": "4",
                  "1": "REDSUN",
                  "2": "000000102646635",
                  "3": "VNPAY",
                  "4": "REDSUN",
                  "5": "REDSUM74",
                  "6": "000000102646635_REDSUM74 - REDSUN",
                  "7": "6"
                },
                {
                  "0": "5",
                  "1": "REDSUN",
                  "2": "000000102646635",
                  "3": "VNPAY",
                  "4": "REDSUN",
                  "5": "REDSUN1",
                  "6": "000000102646635_REDSUN1 - REDSUN",
                  "7": "6"
                },
                {
                  "0": "6",
                  "1": "REDSUN",
                  "2": "000000102646635",
                  "3": "VNPAY",
                  "4": "REDSUN",
                  "5": "REDSUN74",
                  "6": "000000102646635_REDSUN74 - REDSUN",
                  "7": "6"
                },
                {
                  "0": "7",
                  "1": "REDSUN",
                  "2": "00000010264663R",
                  "3": "VNPAY",
                  "4": "REDSUN",
                  "5": "REDSUN1",
                  "6": "00000010264663R_REDSUN1 - REDSUN",
                  "7": "7"
                },
                {
                  "0": "8",
                  "1": "Ruby Coffee",
                  "2": "000000106063708",
                  "3": "VNPAY",
                  "4": "Ruby Coffee",
                  "5": "1111RUBY",
                  "6": "000000106063708_1111RUBY - Ruby Coffee",
                  "7": "8"
                },
                {
                  "0": "9",
                  "1": "Ruby Coffee",
                  "2": "000000106063708",
                  "3": "VNPAY",
                  "4": "Ruby Coffee",
                  "5": "RUBY",
                  "6": "000000106063708_RUBY - Ruby Coffee",
                  "7": "8"
                },
                {
                  "0": "10",
                  "1": "THUONGGIA",
                  "2": "000000106764580",
                  "3": "VNPAY",
                  "4": "THUONGGIA",
                  "5": "TG000001",
                  "6": "000000106764580_TG000001 - THUONGGIA",
                  "7": "9"
                },
                {
                  "0": "11",
                  "1": "VIPNAIL",
                  "2": "000000107489288",
                  "3": "VNPAY",
                  "4": "VIPNAIL",
                  "5": "VIPNAIL2",
                  "6": "000000107489288_VIPNAIL2 - VIPNAIL",
                  "7": "10"
                },
                {
                  "0": "12",
                  "1": "HELIO",
                  "2": "000000107823895",
                  "3": "VNPAY",
                  "4": "HELIO",
                  "5": "HELIO002",
                  "6": "000000107823895_HELIO002 - HELIO",
                  "7": "11"
                },
                {
                  "0": "13",
                  "1": "Nguyet Tran Shop",
                  "2": "000000112343849",
                  "3": "VNPAY",
                  "4": "NTran Shop CS1",
                  "5": "00000001",
                  "6": "000000112343849_00000001 - NTran Shop CS1",
                  "7": "13"
                },
                {
                  "0": "14",
                  "1": "NTran shop",
                  "2": "000000112343849",
                  "3": "VNPAY",
                  "4": "NTran Shop CS1",
                  "5": "00000001",
                  "6": "000000112343849_00000001 - NTran Shop CS1",
                  "7": "12"
                },
                {
                  "0": "15",
                  "1": "NTran shop",
                  "2": "000000112343849",
                  "3": "VNPAY",
                  "4": "NTran shop",
                  "5": "00000001",
                  "6": "000000112343849_00000001 - NTran shop",
                  "7": "12"
                },
                {
                  "0": "16",
                  "1": "GIABAOQT",
                  "2": "0000001C8011891",
                  "3": "VNPAY",
                  "4": "GIABAOQT",
                  "5": "GIABAO01",
                  "6": "0000001C8011891_GIABAO01 - GIABAOQT",
                  "7": "14"
                },
                {
                  "0": "17",
                  "1": "GIABAOQT",
                  "2": "0000001C8011891",
                  "3": "VNPAY",
                  "4": "GIABAOQT",
                  "5": "GIABAO2",
                  "6": "0000001C8011891_GIABAO2 - GIABAOQT",
                  "7": "14"
                },
                {
                  "0": "18",
                  "1": "ORCHIDSSPA",
                  "2": "0000001C8018052",
                  "3": "VNPAY",
                  "4": "ORCHIDSSPA",
                  "5": "IDSSPA01",
                  "6": "0000001C8018052_IDSSPA01 - ORCHIDSSPA",
                  "7": "15"
                },
                {
                  "0": "19",
                  "1": "ORCHIDSSPA",
                  "2": "0000001C8018052",
                  "3": "VNPAY",
                  "4": "ORCHIDSSPA",
                  "5": "IDSSPA02",
                  "6": "0000001C8018052_IDSSPA02 - ORCHIDSSPA",
                  "7": "15"
                },
                {
                  "0": "20",
                  "1": "ORCHIDSSPA",
                  "2": "0000001C8018052",
                  "3": "VNPAY",
                  "4": "ORCHIDSSPA",
                  "5": "ORCHIDSS",
                  "6": "0000001C8018052_ORCHIDSS - ORCHIDSSPA",
                  "7": "15"
                }
              ],
              "schema": [
                {
                  "key": "0",
                  "name": "terminal_id",
                  "type": "int"
                },
                {
                  "key": "1",
                  "name": "ten_merchant",
                  "type": "string"
                },
                {
                  "key": "2",
                  "name": "mid",
                  "type": "string"
                },
                {
                  "key": "3",
                  "name": "master_mc",
                  "type": "string"
                },
                {
                  "key": "4",
                  "name": "terminal_name",
                  "type": "string"
                },
                {
                  "key": "5",
                  "name": "tid",
                  "type": "string"
                },
                {
                  "key": "6",
                  "name": "ma_ten_terminal",
                  "type": "string"
                },
                {
                  "key": "7",
                  "name": "merchant_id",
                  "type": "int"
                }
              ],
              "truncated": false
            },
            "isSummary": false,
            "language": "scala",
            "wranglerEntryContext": {
              "dataframeType": "pyspark"
            }
          },
          "persist_state": {
            "view": {
              "type": "details",
              "tableOptions": {},
              "chartOptions": {
                "chartType": "bar",
                "aggregationType": "sum",
                "categoryFieldKeys": [
                  "1"
                ],
                "seriesFieldKeys": [
                  "0"
                ],
                "isStacked": false
              }
            }
          }
        }
      }
    }
  },
  "cells": [
    {
      "cell_type": "code",
      "execution_count": 2,
      "outputs": [
        {
          "output_type": "display_data",
          "data": {
            "application/vnd.livy.statement-meta+json": {
              "spark_pool": "vnpaypool3",
              "statement_id": 3,
              "statement_ids": [
                3
              ],
              "state": "finished",
              "livy_statement_state": "available",
              "spark_jobs": null,
              "session_id": "6",
              "normalized_state": "finished",
              "queued_time": "2025-08-28T18:12:38.1671617Z",
              "session_start_time": null,
              "execution_start_time": "2025-08-28T18:12:38.1683602Z",
              "execution_finish_time": "2025-08-28T18:12:38.4074279Z",
              "parent_msg_id": "07384321-bf8b-457b-a01f-33acd13bef91"
            },
            "text/plain": "StatementMeta(vnpaypool3, 6, 3, Finished, Available, Finished)"
          },
          "metadata": {}
        }
      ],
      "metadata": {},
      "source": [
        "#Set the folder paths so that it can be used later. \n",
        "bronze_folder_path = 'abfss://bronze@vnpayproject.dfs.core.windows.net/'\n",
        "silver_folder_path = 'abfss://silver@vnpayproject.dfs.core.windows.net/__unitystorage/schemas/72c947f6-1c6b-4578-9cc6-f65e3f3118a7/tables/'\n",
        "new_silver_folder_path = 'abfss://silver@vnpayproject.dfs.core.windows.net/'\n",
        "gold_folder_path = 'abfss://gold@vnpayproject.dfs.core.windows.net/'"
      ]
    },
    {
      "cell_type": "code",
      "execution_count": 3,
      "outputs": [
        {
          "output_type": "display_data",
          "data": {
            "application/vnd.livy.statement-meta+json": {
              "spark_pool": "vnpaypoolv1",
              "statement_id": 3,
              "statement_ids": [
                3
              ],
              "state": "finished",
              "livy_statement_state": "available",
              "spark_jobs": null,
              "session_id": "4",
              "normalized_state": "finished",
              "queued_time": "2025-08-28T07:13:10.0569313Z",
              "session_start_time": null,
              "execution_start_time": "2025-08-28T07:13:16.1108072Z",
              "execution_finish_time": "2025-08-28T07:13:33.5135625Z",
              "parent_msg_id": "a8a59850-b930-4650-bf85-a696f29d6562"
            },
            "text/plain": "StatementMeta(vnpaypoolv1, 4, 3, Finished, Available, Finished)"
          },
          "metadata": {}
        }
      ],
      "metadata": {},
      "source": [
        "# Option 1: Read with schema enforcement\n",
        "df = spark.read.format(\"delta\") \\\n",
        "    .option(\"mergeSchema\", \"false\") \\\n",
        "    .load(f\"{silver_folder_path}/4a3c441c-1a9c-49c2-af48-973f146555c6\")"
      ]
    },
    {
      "cell_type": "code",
      "execution_count": 4,
      "outputs": [
        {
          "output_type": "display_data",
          "data": {
            "application/vnd.livy.statement-meta+json": {
              "spark_pool": "vnpaypoolv1",
              "statement_id": 4,
              "statement_ids": [
                4
              ],
              "state": "finished",
              "livy_statement_state": "available",
              "spark_jobs": null,
              "session_id": "4",
              "normalized_state": "finished",
              "queued_time": "2025-08-28T07:13:11.7268579Z",
              "session_start_time": null,
              "execution_start_time": "2025-08-28T07:13:33.5346548Z",
              "execution_finish_time": "2025-08-28T07:14:05.1229196Z",
              "parent_msg_id": "9496dbc3-453c-48b5-92e0-c27f67bd729b"
            },
            "text/plain": "StatementMeta(vnpaypoolv1, 4, 4, Finished, Available, Finished)"
          },
          "metadata": {}
        },
        {
          "output_type": "display_data",
          "data": {
            "application/vnd.synapse.widget-view+json": {
              "widget_id": "32e7cd15-8ef5-4259-8568-3fca8a8104f4",
              "widget_type": "Synapse.DataFrame"
            },
            "text/plain": "SynapseWidget(Synapse.DataFrame, 32e7cd15-8ef5-4259-8568-3fca8a8104f4)"
          },
          "metadata": {}
        }
      ],
      "metadata": {
        "collapsed": false
      },
      "source": [
        "display(df.limit(20))"
      ]
    },
    {
      "cell_type": "code",
      "execution_count": 5,
      "outputs": [
        {
          "output_type": "display_data",
          "data": {
            "application/vnd.livy.statement-meta+json": {
              "spark_pool": "vnpaypoolv1",
              "statement_id": 5,
              "statement_ids": [
                5
              ],
              "state": "finished",
              "livy_statement_state": "available",
              "spark_jobs": null,
              "session_id": "4",
              "normalized_state": "finished",
              "queued_time": "2025-08-28T07:18:09.2525838Z",
              "session_start_time": null,
              "execution_start_time": "2025-08-28T07:18:09.2539078Z",
              "execution_finish_time": "2025-08-28T07:18:19.9051428Z",
              "parent_msg_id": "b92a2e74-8ba5-4df8-bfca-438b069a83ef"
            },
            "text/plain": "StatementMeta(vnpaypoolv1, 4, 5, Finished, Available, Finished)"
          },
          "metadata": {}
        }
      ],
      "metadata": {},
      "source": [
        "# Write to Delta Lake in new location\n",
        "df.write \\\n",
        "    .format(\"delta\") \\\n",
        "    .mode(\"overwrite\") \\\n",
        "    .save(f\"{new_silver_folder_path}/terminal_lookup\")"
      ]
    },
    {
      "cell_type": "code",
      "execution_count": 3,
      "outputs": [
        {
          "output_type": "display_data",
          "data": {
            "application/vnd.livy.statement-meta+json": {
              "spark_pool": "vnpaypool3",
              "statement_id": 4,
              "statement_ids": [
                4
              ],
              "state": "finished",
              "livy_statement_state": "available",
              "spark_jobs": null,
              "session_id": "6",
              "normalized_state": "finished",
              "queued_time": "2025-08-28T18:12:52.4484106Z",
              "session_start_time": null,
              "execution_start_time": "2025-08-28T18:12:52.4495961Z",
              "execution_finish_time": "2025-08-28T18:13:38.0635352Z",
              "parent_msg_id": "1fa77c12-96b0-4f57-9540-63a3a1c0a560"
            },
            "text/plain": "StatementMeta(vnpaypool3, 6, 4, Finished, Available, Finished)"
          },
          "metadata": {}
        },
        {
          "output_type": "execute_result",
          "data": {
            "text/plain": "DataFrame[]"
          },
          "execution_count": 9,
          "metadata": {}
        }
      ],
      "metadata": {},
      "source": [
        "# Create External Table pointing to existing Delta Lake location\n",
        "spark.sql(f\"\"\"\n",
        "    CREATE TABLE IF NOT EXISTS vnpay_silver_spark.terminal_lookup\n",
        "    USING DELTA\n",
        "    LOCATION '{new_silver_folder_path}/terminal_lookup'\n",
        "\"\"\")"
      ]
    }
  ]
}