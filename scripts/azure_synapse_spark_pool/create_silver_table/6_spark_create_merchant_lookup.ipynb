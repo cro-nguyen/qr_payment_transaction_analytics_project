{
  "nbformat": 4,
  "nbformat_minor": 2,
  "metadata": {
    "language_info": {
      "name": "python"
    },
    "kernelspec": {
      "name": "synapse_pyspark",
      "display_name": "python"
    },
    "description": null,
    "save_output": true,
    "synapse_widget": {
      "version": "0.1",
      "state": {
        "4bba1d4f-cb20-43b2-83fc-d35ca3d388a9": {
          "type": "Synapse.DataFrame",
          "sync_state": {
            "table": {
              "rows": [
                {
                  "0": "1",
                  "1": "",
                  "2": "BO TO QUAN MOC",
                  "4": "4600"
                },
                {
                  "0": "3",
                  "1": "000000",
                  "2": "Khánh Ng?c",
                  "5": "KNshop",
                  "6": "Khánh Ngọc"
                },
                {
                  "0": "5",
                  "1": "00000001M003447",
                  "2": "ARTGALLERY",
                  "4": "5947"
                },
                {
                  "0": "6",
                  "1": "000000102646635",
                  "2": "REDSUN",
                  "4": "5812"
                },
                {
                  "0": "12",
                  "1": "000000112343849",
                  "2": "NTran shop",
                  "3": "549910",
                  "4": "5499",
                  "5": "NTran shop",
                  "6": "Nguyet Tran Shop"
                },
                {
                  "0": "13",
                  "1": "000000112343849",
                  "2": "Nguyet Tran Shop",
                  "3": "549900",
                  "5": "NTran shop",
                  "6": "Nguyet Tran Shop"
                },
                {
                  "0": "16",
                  "1": "0000001C8027000",
                  "2": "VUPHUONGANH",
                  "4": "5814"
                },
                {
                  "0": "20",
                  "1": "000000302577234",
                  "2": "ChefMamma",
                  "4": "5812"
                },
                {
                  "0": "22",
                  "1": "0000134CG04HKD",
                  "2": "0001",
                  "3": "505110",
                  "4": "5051",
                  "5": "CUA HANG XUAN TINH",
                  "6": "HKD VŨ XUÂN THÉP"
                },
                {
                  "0": "26",
                  "1": "00005637001",
                  "2": "TEST PILOT",
                  "4": "5411"
                },
                {
                  "0": "27",
                  "1": "000058000061",
                  "2": "COKANG",
                  "3": "581210",
                  "4": "5812",
                  "5": "COKANG",
                  "6": "CN - LÊ NGỌC HÙNG (000058000061)"
                },
                {
                  "0": "28",
                  "1": "00007196102",
                  "2": "Cua hang MIU MIU",
                  "4": "5411"
                },
                {
                  "0": "31",
                  "1": "000088000032",
                  "2": "PHAM TUONG VINH",
                  "4": "7298"
                },
                {
                  "0": "34",
                  "1": "000092000114",
                  "2": "MAXH01",
                  "3": "581210",
                  "4": "5499",
                  "5": "MAXH01",
                  "6": "CN - VƯƠNG QUỐC HẢI"
                },
                {
                  "0": "40",
                  "1": "00013499001",
                  "2": "TRAN THI HIEN",
                  "4": "5331"
                },
                {
                  "0": "44",
                  "1": "000185000015",
                  "2": "NGUYEN THI THU YEN",
                  "4": "5691",
                  "5": "CTJEANSVIETNAM",
                  "6": "CN - NGUYỄN THỊ THU YÊN"
                },
                {
                  "0": "47",
                  "1": "000189000027",
                  "2": "CANGTINSO18",
                  "3": "581410",
                  "4": "5499",
                  "5": "CANGTINSO18",
                  "6": "CN - ĐÀO TRUNG THU"
                },
                {
                  "0": "48",
                  "1": "000193000030",
                  "2": "VPPSUMI",
                  "3": "511110",
                  "4": "5499",
                  "5": "VPPSUMI",
                  "6": "CN - THÁI HÀ ANH"
                },
                {
                  "0": "52",
                  "1": "000301000027",
                  "2": "TUYETHOA",
                  "3": "549910",
                  "4": "5499"
                },
                {
                  "0": "53",
                  "1": "00032790115",
                  "2": "NGUYEN HOANG SU",
                  "4": "5941"
                }
              ],
              "schema": [
                {
                  "key": "0",
                  "name": "merchant_id",
                  "type": "int"
                },
                {
                  "key": "1",
                  "name": "mid",
                  "type": "string"
                },
                {
                  "key": "2",
                  "name": "ten_merchant",
                  "type": "string"
                },
                {
                  "key": "3",
                  "name": "mcc_noi_dia",
                  "type": "string"
                },
                {
                  "key": "4",
                  "name": "mcc_quoc_te",
                  "type": "string"
                },
                {
                  "key": "5",
                  "name": "merchant_brand",
                  "type": "string"
                },
                {
                  "key": "6",
                  "name": "merchant_name",
                  "type": "string"
                }
              ],
              "truncated": false
            },
            "isSummary": false,
            "language": "scala",
            "wranglerEntryContext": {
              "dataframeType": "pyspark"
            }
          },
          "persist_state": {
            "view": {
              "type": "details",
              "tableOptions": {},
              "chartOptions": {
                "chartType": "bar",
                "aggregationType": "sum",
                "categoryFieldKeys": [
                  "1"
                ],
                "seriesFieldKeys": [
                  "0"
                ],
                "isStacked": false
              }
            }
          }
        }
      }
    }
  },
  "cells": [
    {
      "cell_type": "code",
      "execution_count": 19,
      "outputs": [
        {
          "output_type": "display_data",
          "data": {
            "application/vnd.livy.statement-meta+json": {
              "spark_pool": "vnpaypool3",
              "statement_id": 3,
              "statement_ids": [
                3
              ],
              "state": "finished",
              "livy_statement_state": "available",
              "spark_jobs": null,
              "session_id": "9",
              "normalized_state": "finished",
              "queued_time": "2025-08-28T18:52:08.9311815Z",
              "session_start_time": null,
              "execution_start_time": "2025-08-28T18:52:08.9323761Z",
              "execution_finish_time": "2025-08-28T18:52:09.1771534Z",
              "parent_msg_id": "2087deef-ef16-44a4-8557-c8a7dc1c5f74"
            },
            "text/plain": "StatementMeta(vnpaypool3, 9, 3, Finished, Available, Finished)"
          },
          "metadata": {}
        }
      ],
      "metadata": {},
      "source": [
        "#Set the folder paths so that it can be used later. \n",
        "bronze_folder_path = 'abfss://bronze@vnpayproject.dfs.core.windows.net/'\n",
        "silver_folder_path = 'abfss://silver@vnpayproject.dfs.core.windows.net/__unitystorage/schemas/72c947f6-1c6b-4578-9cc6-f65e3f3118a7/tables/'\n",
        "new_silver_folder_path = 'abfss://silver@vnpayproject.dfs.core.windows.net/'\n",
        "gold_folder_path = 'abfss://gold@vnpayproject.dfs.core.windows.net/'"
      ]
    },
    {
      "cell_type": "code",
      "execution_count": 20,
      "outputs": [
        {
          "output_type": "display_data",
          "data": {
            "application/vnd.livy.statement-meta+json": {
              "spark_pool": "vnpaypool3",
              "statement_id": 4,
              "statement_ids": [
                4
              ],
              "state": "finished",
              "livy_statement_state": "available",
              "spark_jobs": null,
              "session_id": "9",
              "normalized_state": "finished",
              "queued_time": "2025-08-28T18:52:10.829074Z",
              "session_start_time": null,
              "execution_start_time": "2025-08-28T18:52:10.830232Z",
              "execution_finish_time": "2025-08-28T18:52:27.6188511Z",
              "parent_msg_id": "909a39eb-30f4-43e4-b261-2c5acc2ea271"
            },
            "text/plain": "StatementMeta(vnpaypool3, 9, 4, Finished, Available, Finished)"
          },
          "metadata": {}
        }
      ],
      "metadata": {},
      "source": [
        "# Option 1: Read with schema enforcement\n",
        "df = spark.read.format(\"delta\") \\\n",
        "    .option(\"mergeSchema\", \"false\") \\\n",
        "    .load(f\"{silver_folder_path}/be5c700f-d63d-47b5-898d-28ddafff7430\")"
      ]
    },
    {
      "cell_type": "code",
      "execution_count": 21,
      "outputs": [
        {
          "output_type": "display_data",
          "data": {
            "application/vnd.livy.statement-meta+json": {
              "spark_pool": "vnpaypool3",
              "statement_id": 5,
              "statement_ids": [
                5
              ],
              "state": "finished",
              "livy_statement_state": "available",
              "spark_jobs": null,
              "session_id": "9",
              "normalized_state": "finished",
              "queued_time": "2025-08-28T18:52:16.8608188Z",
              "session_start_time": null,
              "execution_start_time": "2025-08-28T18:52:27.6321144Z",
              "execution_finish_time": "2025-08-28T18:52:54.9141468Z",
              "parent_msg_id": "75920642-605d-43a7-a0f6-1c0474302280"
            },
            "text/plain": "StatementMeta(vnpaypool3, 9, 5, Finished, Available, Finished)"
          },
          "metadata": {}
        },
        {
          "output_type": "display_data",
          "data": {
            "application/vnd.synapse.widget-view+json": {
              "widget_id": "4bba1d4f-cb20-43b2-83fc-d35ca3d388a9",
              "widget_type": "Synapse.DataFrame"
            },
            "text/plain": "SynapseWidget(Synapse.DataFrame, 4bba1d4f-cb20-43b2-83fc-d35ca3d388a9)"
          },
          "metadata": {}
        }
      ],
      "metadata": {
        "collapsed": false
      },
      "source": [
        "display(df.limit(20))"
      ]
    },
    {
      "cell_type": "code",
      "execution_count": 22,
      "outputs": [
        {
          "output_type": "display_data",
          "data": {
            "application/vnd.livy.statement-meta+json": {
              "spark_pool": "vnpaypool3",
              "statement_id": 6,
              "statement_ids": [
                6
              ],
              "state": "finished",
              "livy_statement_state": "available",
              "spark_jobs": null,
              "session_id": "9",
              "normalized_state": "finished",
              "queued_time": "2025-08-28T18:54:00.9711131Z",
              "session_start_time": null,
              "execution_start_time": "2025-08-28T18:54:00.9722835Z",
              "execution_finish_time": "2025-08-28T18:54:11.5794202Z",
              "parent_msg_id": "7cdac1dc-fc9d-4942-9b33-eb2a18206f4c"
            },
            "text/plain": "StatementMeta(vnpaypool3, 9, 6, Finished, Available, Finished)"
          },
          "metadata": {}
        }
      ],
      "metadata": {},
      "source": [
        "# Write to Delta Lake in new location\n",
        "df.write \\\n",
        "    .format(\"delta\") \\\n",
        "    .mode(\"overwrite\") \\\n",
        "    .save(f\"{new_silver_folder_path}/merchant_lookup\")"
      ]
    },
    {
      "cell_type": "code",
      "execution_count": 23,
      "outputs": [
        {
          "output_type": "display_data",
          "data": {
            "application/vnd.livy.statement-meta+json": {
              "spark_pool": "vnpaypool3",
              "statement_id": 7,
              "statement_ids": [
                7
              ],
              "state": "finished",
              "livy_statement_state": "available",
              "spark_jobs": null,
              "session_id": "9",
              "normalized_state": "finished",
              "queued_time": "2025-08-28T18:54:05.2705829Z",
              "session_start_time": null,
              "execution_start_time": "2025-08-28T18:54:11.5934552Z",
              "execution_finish_time": "2025-08-28T18:54:32.4287261Z",
              "parent_msg_id": "032f245c-2591-4893-a0eb-bc7177fae219"
            },
            "text/plain": "StatementMeta(vnpaypool3, 9, 7, Finished, Available, Finished)"
          },
          "metadata": {}
        },
        {
          "output_type": "execute_result",
          "data": {
            "text/plain": "DataFrame[]"
          },
          "execution_count": 15,
          "metadata": {}
        }
      ],
      "metadata": {},
      "source": [
        "# Create External Table pointing to existing Delta Lake location\n",
        "spark.sql(f\"\"\"\n",
        "    CREATE TABLE IF NOT EXISTS vnpay_silver_spark.merchant_lookup\n",
        "    USING DELTA\n",
        "    LOCATION '{new_silver_folder_path}/merchant_lookup'\n",
        "\"\"\")"
      ]
    }
  ]
}