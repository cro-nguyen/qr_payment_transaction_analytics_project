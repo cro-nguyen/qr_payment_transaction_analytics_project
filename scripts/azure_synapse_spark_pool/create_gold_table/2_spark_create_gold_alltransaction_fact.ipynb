{
  "nbformat": 4,
  "nbformat_minor": 2,
  "metadata": {
    "language_info": {
      "name": "python"
    },
    "kernelspec": {
      "name": "synapse_pyspark",
      "display_name": "python"
    },
    "description": null,
    "save_output": true,
    "synapse_widget": {
      "version": "0.1",
      "state": {
        "8ac59ee4-0cd6-44c0-a698-abcc0954a16d": {
          "type": "Synapse.DataFrame",
          "sync_state": {
            "table": {
              "rows": [
                {
                  "0": "3470790",
                  "1": "19201798985",
                  "3": "19201798985",
                  "4": "WINSMART",
                  "5": "VNPAY",
                  "6": "0107613143_WINSMART07 - JMDRESSDESIGN 163CB",
                  "7": "MSBANK",
                  "8": "QR-Offline",
                  "10": "NGUYEN THI HONG THUY",
                  "11": "01276627313",
                  "12": "03501014979610",
                  "13": "Tài khoản nội địa",
                  "14": "685000",
                  "15": "685000",
                  "16": "0",
                  "17": "0",
                  "19": "0.0000",
                  "20": "USD",
                  "21": "2019-07-20 20:11:37",
                  "22": "Success",
                  "23": "775344",
                  "24": "00        ",
                  "25": "303470790",
                  "26": "00",
                  "31": "5691",
                  "32": "0.00",
                  "34": "10668689",
                  "35": "121110",
                  "36": "18",
                  "37": "102566",
                  "38": "13",
                  "39": "2019",
                  "40": "07"
                },
                {
                  "0": "3287352",
                  "1": "732985",
                  "3": "PAYFPT_0006936963",
                  "4": "FPTTELECOM",
                  "5": "VNPAY",
                  "6": "0101778163_FPTTEL01 - FPT Telecom",
                  "7": "VIETINBANK",
                  "8": "\tQR-Billing",
                  "10": "NHAN KHUONG MY KIM",
                  "11": "01665755763",
                  "12": "105866738310",
                  "13": "Tài khoản nội địa",
                  "14": "165000",
                  "15": "165000",
                  "16": "0",
                  "17": "0",
                  "19": "0.0000",
                  "20": "USD",
                  "21": "2019-07-14 05:50:58",
                  "22": "Success",
                  "23": "732985",
                  "24": "00        ",
                  "25": "303287352",
                  "26": "00",
                  "31": "4814",
                  "32": "0.00",
                  "34": "6562397",
                  "35": "108697",
                  "36": "42",
                  "37": "100524",
                  "38": "13",
                  "39": "2019",
                  "40": "07"
                },
                {
                  "0": "3093600",
                  "1": "19187526837",
                  "3": "15204291",
                  "4": "VED",
                  "5": "VNPAY",
                  "6": "0103959912_10007102 - DL Garena Cyberpay",
                  "7": "MSBANK",
                  "8": "QR-Cổng",
                  "10": "NGUYEN PHUC VINH ",
                  "11": "0325478346",
                  "12": "9704269974099856",
                  "13": "Thẻ nội địa",
                  "14": "400000",
                  "15": "300000",
                  "16": "0",
                  "17": "0",
                  "19": "0.0000",
                  "20": "USD",
                  "21": "2019-07-06 14:07:16",
                  "22": "Success",
                  "23": "294296",
                  "24": "00        ",
                  "25": "303093600",
                  "26": "00",
                  "31": "5816",
                  "32": "0.00",
                  "34": "4603730",
                  "35": "112882",
                  "36": "18",
                  "37": "101313",
                  "38": "13",
                  "39": "2019",
                  "40": "07"
                },
                {
                  "0": "3093664",
                  "1": "19187526989",
                  "3": "15204391",
                  "4": "VED",
                  "5": "VNPAY",
                  "6": "0103959912_10007102 - DL Garena Cyberpay",
                  "7": "MSBANK",
                  "8": "QR-Cổng",
                  "10": "NGUYEN PHUC VINH ",
                  "11": "0325478346",
                  "12": "9704269974099856",
                  "13": "Thẻ nội địa",
                  "14": "100000",
                  "15": "100000",
                  "16": "0",
                  "17": "0",
                  "19": "0.0000",
                  "20": "USD",
                  "21": "2019-07-06 14:08:24",
                  "22": "Success",
                  "23": "294396",
                  "24": "00        ",
                  "25": "303093664",
                  "26": "00",
                  "31": "5816",
                  "32": "0.00",
                  "34": "4603730",
                  "35": "112882",
                  "36": "18",
                  "37": "101313",
                  "38": "13",
                  "39": "2019",
                  "40": "07"
                },
                {
                  "0": "3160726",
                  "1": "709217",
                  "3": "15290772",
                  "4": "UEH",
                  "5": "VNPAY",
                  "6": "0302378687OCB_UEH00001 - payment.ueh.edu.vn",
                  "7": "VIETINBANK",
                  "8": "QR-Cổng",
                  "10": "NGUYEN THI MINH TAM",
                  "11": "0325817733",
                  "12": "105868632180",
                  "13": "Tài khoản nội địa",
                  "14": "13455000",
                  "15": "13455000",
                  "16": "0",
                  "17": "0",
                  "19": "0.0000",
                  "20": "USD",
                  "21": "2019-07-09 11:39:49",
                  "22": "Success",
                  "23": "709217",
                  "24": "00        ",
                  "25": "303160726",
                  "26": "00",
                  "31": "8220",
                  "32": "0.00",
                  "34": "5389241",
                  "35": "252890",
                  "36": "42",
                  "37": "213688",
                  "38": "13",
                  "39": "2019",
                  "40": "07"
                }
              ],
              "schema": [
                {
                  "key": "0",
                  "name": "ma_gd",
                  "type": "int"
                },
                {
                  "key": "1",
                  "name": "ma_thanh_toan",
                  "type": "string"
                },
                {
                  "key": "2",
                  "name": "ma_don_hang",
                  "type": "string"
                },
                {
                  "key": "3",
                  "name": "so_hoa_don",
                  "type": "string"
                },
                {
                  "key": "4",
                  "name": "ten_merchant",
                  "type": "string"
                },
                {
                  "key": "5",
                  "name": "master_mc",
                  "type": "string"
                },
                {
                  "key": "6",
                  "name": "ma_ten_terminal",
                  "type": "string"
                },
                {
                  "key": "7",
                  "name": "don_vi_tt",
                  "type": "string"
                },
                {
                  "key": "8",
                  "name": "kenh_thanh_toan",
                  "type": "string"
                },
                {
                  "key": "9",
                  "name": "phuong_thuc_thanh_toan",
                  "type": "string"
                },
                {
                  "key": "10",
                  "name": "ten_kh_thanh_toan",
                  "type": "string"
                },
                {
                  "key": "11",
                  "name": "so_dien_thoai",
                  "type": "string"
                },
                {
                  "key": "12",
                  "name": "so_tai_khoan",
                  "type": "string"
                },
                {
                  "key": "13",
                  "name": "loai_the_tai_khoan",
                  "type": "string"
                },
                {
                  "key": "14",
                  "name": "so_tien_truoc_km",
                  "type": "int"
                },
                {
                  "key": "15",
                  "name": "so_tien_sau_km",
                  "type": "int"
                },
                {
                  "key": "16",
                  "name": "so_tien_truoc_km_ngoai_te",
                  "type": "int"
                },
                {
                  "key": "17",
                  "name": "so_tien_sau_km_ngoai_te",
                  "type": "int"
                },
                {
                  "key": "18",
                  "name": "to_chuc_tai_tro_km",
                  "type": "string"
                },
                {
                  "key": "19",
                  "name": "ty_gia",
                  "type": "decimal"
                },
                {
                  "key": "20",
                  "name": "loai_ngoai_te",
                  "type": "string"
                },
                {
                  "key": "21",
                  "name": "thoi_gian_thanh_toan",
                  "type": "timestamp"
                },
                {
                  "key": "22",
                  "name": "trang_thai",
                  "type": "string"
                },
                {
                  "key": "23",
                  "name": "so_trace_phase_2",
                  "type": "string"
                },
                {
                  "key": "24",
                  "name": "phase_2_code",
                  "type": "string"
                },
                {
                  "key": "25",
                  "name": "so_trace_phase_3",
                  "type": "string"
                },
                {
                  "key": "26",
                  "name": "phase_3_code",
                  "type": "string"
                },
                {
                  "key": "27",
                  "name": "so_trace_phase_4",
                  "type": "string"
                },
                {
                  "key": "28",
                  "name": "phase_4_code",
                  "type": "string"
                },
                {
                  "key": "29",
                  "name": "ma_phe_duyet",
                  "type": "string"
                },
                {
                  "key": "30",
                  "name": "mcc_noi_dia",
                  "type": "string"
                },
                {
                  "key": "31",
                  "name": "mcc_quoc_te",
                  "type": "string"
                },
                {
                  "key": "32",
                  "name": "so_tien_tip",
                  "type": "decimal"
                },
                {
                  "key": "33",
                  "name": "hinh_thuc_the",
                  "type": "string"
                },
                {
                  "key": "34",
                  "name": "user_id",
                  "type": "int"
                },
                {
                  "key": "35",
                  "name": "terminal_id",
                  "type": "int"
                },
                {
                  "key": "36",
                  "name": "issuer_id",
                  "type": "int"
                },
                {
                  "key": "37",
                  "name": "merchant_id",
                  "type": "int"
                },
                {
                  "key": "38",
                  "name": "master_merchant_id",
                  "type": "int"
                },
                {
                  "key": "39",
                  "name": "year",
                  "type": "int"
                },
                {
                  "key": "40",
                  "name": "month",
                  "type": "string"
                }
              ],
              "truncated": false
            },
            "isSummary": false,
            "language": "scala",
            "wranglerEntryContext": {
              "dataframeType": "pyspark"
            }
          },
          "persist_state": {
            "view": {
              "type": "details",
              "tableOptions": {},
              "chartOptions": {
                "chartType": "bar",
                "aggregationType": "sum",
                "categoryFieldKeys": [
                  "1"
                ],
                "seriesFieldKeys": [
                  "0"
                ],
                "isStacked": false
              }
            }
          }
        },
        "404306af-85f5-4f57-9822-588935ca22ac": {
          "type": "Synapse.DataFrame",
          "sync_state": {
            "table": {
              "rows": [
                {
                  "0": "44148775",
                  "1": "CTCP TMDT BAO KIM",
                  "2": "MSB",
                  "3": "0104432131_11000006272 - CTCP TMDT BAO KIM",
                  "4": "QR-Offline",
                  "5": "LE TUAN ANH",
                  "6": "0000000000",
                  "7": "TPBANK",
                  "8": "*****003502",
                  "9": "Tài khoản nội địa",
                  "10": "50500",
                  "11": "50500",
                  "12": "0",
                  "13": "2021-04-14 19:01:56",
                  "14": "2021-04-14",
                  "15": "2021",
                  "16": "04",
                  "17": "Success",
                  "19": "8358",
                  "20": "3168230",
                  "21": "113369",
                  "22": "33",
                  "23": "101376",
                  "24": "5"
                },
                {
                  "0": "43163873",
                  "1": "BEBUBAM",
                  "2": "VNPAY",
                  "3": "02B8030383_BBUBAM28 - BE BU BAM 113 PNL",
                  "4": "QR-Offline",
                  "5": "MAC THI NGA",
                  "6": "0000000000",
                  "7": "TPBANK",
                  "8": "*****005301",
                  "9": "Tài khoản nội địa",
                  "10": "310000",
                  "11": "310000",
                  "12": "0",
                  "13": "2021-04-03 10:02:05",
                  "14": "2021-04-03",
                  "15": "2021",
                  "16": "04",
                  "17": "Success",
                  "18": "541110",
                  "19": "5499",
                  "20": "761457",
                  "21": "247394",
                  "22": "33",
                  "23": "211276",
                  "24": "13"
                },
                {
                  "0": "43449930",
                  "1": "SHOPMEVABEHD",
                  "2": "VNPAY",
                  "3": "04C8003721_SHOP01 - SHOP ME VA BE HD",
                  "4": "QR-Offline",
                  "5": "MAC THI NGA",
                  "6": "0000000000",
                  "7": "TPBANK",
                  "8": "*****005301",
                  "9": "Tài khoản nội địa",
                  "10": "380000",
                  "11": "380000",
                  "12": "0",
                  "13": "2021-04-06 16:36:59",
                  "14": "2021-04-06",
                  "15": "2021",
                  "16": "04",
                  "17": "Success",
                  "18": "599910",
                  "19": "5499",
                  "20": "761457",
                  "21": "294594",
                  "22": "33",
                  "23": "235517",
                  "24": "13"
                },
                {
                  "0": "43496221",
                  "1": "HASAKI",
                  "2": "VNPAY",
                  "3": "0313612829_HASAKI01 - HASAKI D3T2",
                  "4": "QR-Offline",
                  "5": "NGUYEN PHAM VAN ANH",
                  "6": "0000000000",
                  "7": "TPBANK",
                  "8": "*****005301",
                  "9": "Tài khoản nội địa",
                  "10": "1297000",
                  "11": "1297000",
                  "12": "0",
                  "13": "2021-04-07 10:24:56",
                  "14": "2021-04-07",
                  "15": "2021",
                  "16": "04",
                  "17": "Success",
                  "18": "729810",
                  "19": "7298",
                  "20": "761457",
                  "21": "271801",
                  "22": "33",
                  "23": "219798",
                  "24": "13"
                },
                {
                  "0": "43498734",
                  "1": "SHOPMEVABEHD",
                  "2": "VNPAY",
                  "3": "04C8003721_SHOP01 - SHOP ME VA BE HD",
                  "4": "QR-Offline",
                  "5": "MAC THI NGA",
                  "6": "0000000000",
                  "7": "TPBANK",
                  "8": "*****005301",
                  "9": "Tài khoản nội địa",
                  "10": "770000",
                  "11": "770000",
                  "12": "0",
                  "13": "2021-04-07 10:57:02",
                  "14": "2021-04-07",
                  "15": "2021",
                  "16": "04",
                  "17": "Success",
                  "18": "599910",
                  "19": "5499",
                  "20": "761457",
                  "21": "294594",
                  "22": "33",
                  "23": "235517",
                  "24": "13"
                },
                {
                  "0": "45241763",
                  "1": "SEOUL SPA HKD",
                  "2": "VNPAY",
                  "3": "49A8030720_SEOUL67 - SEOUL SPA 380BHN",
                  "4": "QR-Offline",
                  "5": "PHAM THI HONG LOAN",
                  "6": "0000000000",
                  "7": "TPBANK",
                  "8": "*****010003",
                  "9": "Tài khoản nội địa",
                  "10": "2490000",
                  "11": "2490000",
                  "12": "0",
                  "13": "2021-04-26 09:21:33",
                  "14": "2021-04-26",
                  "15": "2021",
                  "16": "04",
                  "17": "Success",
                  "18": "729810",
                  "19": "5499",
                  "20": "5958621",
                  "21": "370914",
                  "22": "33",
                  "23": "296957",
                  "24": "13"
                },
                {
                  "0": "45587573",
                  "1": "VED",
                  "2": "VNPAY",
                  "3": "0103959912_VED05 - VED05",
                  "4": "QR-Offline",
                  "5": "VO MINH TUAN",
                  "6": "0000000000",
                  "7": "TPBANK",
                  "8": "*****033501",
                  "9": "Tài khoản nội địa",
                  "10": "100000",
                  "11": "100000",
                  "12": "0",
                  "13": "2021-04-30 09:49:33",
                  "14": "2021-04-30",
                  "15": "2021",
                  "16": "04",
                  "17": "Success",
                  "18": "581600",
                  "19": "6540",
                  "20": "1363491",
                  "21": "112886",
                  "22": "33",
                  "23": "101313",
                  "24": "13"
                },
                {
                  "0": "43625243",
                  "1": "VED",
                  "2": "VNPAY",
                  "3": "0103959912_VED05 - VED05",
                  "4": "QR-Offline",
                  "5": "VO MINH TUAN",
                  "6": "0000000000",
                  "7": "TPBANK",
                  "8": "*****033501",
                  "9": "Tài khoản nội địa",
                  "10": "10000",
                  "11": "10000",
                  "12": "0",
                  "13": "2021-04-08 20:33:17",
                  "14": "2021-04-08",
                  "15": "2021",
                  "16": "04",
                  "17": "Success",
                  "18": "581600",
                  "19": "6540",
                  "20": "1363491",
                  "21": "112886",
                  "22": "33",
                  "23": "101313",
                  "24": "13"
                },
                {
                  "0": "45489764",
                  "1": "VED",
                  "2": "VNPAY",
                  "3": "0103959912_VED05 - VED05",
                  "4": "QR-Offline",
                  "5": "TRINH NGOC HIEU",
                  "6": "0000000000",
                  "7": "TPBANK",
                  "8": "*****068101",
                  "9": "Tài khoản nội địa",
                  "10": "100000",
                  "11": "100000",
                  "12": "0",
                  "13": "2021-04-29 09:25:48",
                  "14": "2021-04-29",
                  "15": "2021",
                  "16": "04",
                  "17": "Success",
                  "18": "581600",
                  "19": "6540",
                  "20": "313643",
                  "21": "112886",
                  "22": "33",
                  "23": "101313",
                  "24": "13"
                },
                {
                  "0": "43115719",
                  "1": "THANHBUOI",
                  "2": "VNPAY",
                  "3": "0302029252_NGHI720 - TRUONG T NGHI C2270",
                  "4": "QR-Offline",
                  "5": "NGUYEN THI THUY TIEN",
                  "6": "0000000000",
                  "7": "TPBANK",
                  "8": "*****068101",
                  "9": "Tài khoản nội địa",
                  "10": "150000",
                  "11": "150000",
                  "12": "0",
                  "13": "2021-04-02 17:21:43",
                  "14": "2021-04-02",
                  "15": "2021",
                  "16": "04",
                  "17": "Success",
                  "18": "478910",
                  "19": "5499",
                  "20": "313643",
                  "21": "252120",
                  "22": "33",
                  "23": "213605",
                  "24": "13"
                }
              ],
              "schema": [
                {
                  "key": "0",
                  "name": "txn_id",
                  "type": "int"
                },
                {
                  "key": "1",
                  "name": "merchant",
                  "type": "string"
                },
                {
                  "key": "2",
                  "name": "master_merchant",
                  "type": "string"
                },
                {
                  "key": "3",
                  "name": "terminal",
                  "type": "string"
                },
                {
                  "key": "4",
                  "name": "payment_method",
                  "type": "string"
                },
                {
                  "key": "5",
                  "name": "user_name",
                  "type": "string"
                },
                {
                  "key": "6",
                  "name": "phone",
                  "type": "string"
                },
                {
                  "key": "7",
                  "name": "issuer",
                  "type": "string"
                },
                {
                  "key": "8",
                  "name": "account_number",
                  "type": "string"
                },
                {
                  "key": "9",
                  "name": "account_type",
                  "type": "string"
                },
                {
                  "key": "10",
                  "name": "org_amount",
                  "type": "int"
                },
                {
                  "key": "11",
                  "name": "final_amount",
                  "type": "int"
                },
                {
                  "key": "12",
                  "name": "promotion_amount",
                  "type": "int"
                },
                {
                  "key": "13",
                  "name": "payment_time",
                  "type": "timestamp"
                },
                {
                  "key": "14",
                  "name": "payment_date",
                  "type": "date"
                },
                {
                  "key": "15",
                  "name": "year",
                  "type": "int"
                },
                {
                  "key": "16",
                  "name": "month",
                  "type": "string"
                },
                {
                  "key": "17",
                  "name": "payment_status",
                  "type": "string"
                },
                {
                  "key": "18",
                  "name": "domestic_mcc",
                  "type": "string"
                },
                {
                  "key": "19",
                  "name": "int_mcc",
                  "type": "string"
                },
                {
                  "key": "20",
                  "name": "user_id",
                  "type": "int"
                },
                {
                  "key": "21",
                  "name": "terminal_id",
                  "type": "int"
                },
                {
                  "key": "22",
                  "name": "issuer_id",
                  "type": "int"
                },
                {
                  "key": "23",
                  "name": "merchant_id",
                  "type": "int"
                },
                {
                  "key": "24",
                  "name": "master_merchant_id",
                  "type": "int"
                }
              ],
              "truncated": false
            },
            "isSummary": false,
            "language": "scala",
            "wranglerEntryContext": {
              "dataframeType": "pyspark"
            }
          },
          "persist_state": {
            "view": {
              "type": "details",
              "tableOptions": {},
              "chartOptions": {
                "chartType": "bar",
                "aggregationType": "sum",
                "categoryFieldKeys": [
                  "1"
                ],
                "seriesFieldKeys": [
                  "0"
                ],
                "isStacked": false
              }
            }
          }
        }
      }
    }
  },
  "cells": [
    {
      "cell_type": "code",
      "execution_count": 29,
      "outputs": [
        {
          "output_type": "display_data",
          "data": {
            "application/vnd.livy.statement-meta+json": {
              "spark_pool": "vnpaypool3",
              "statement_id": 30,
              "statement_ids": [
                30
              ],
              "state": "finished",
              "livy_statement_state": "available",
              "spark_jobs": null,
              "session_id": "18",
              "normalized_state": "finished",
              "queued_time": "2025-08-29T22:05:39.6766199Z",
              "session_start_time": null,
              "execution_start_time": "2025-08-29T22:05:39.6777792Z",
              "execution_finish_time": "2025-08-29T22:05:39.9004872Z",
              "parent_msg_id": "c79f1e2b-b54c-48d4-9d4a-856fee8b4cd2"
            },
            "text/plain": "StatementMeta(vnpaypool3, 18, 30, Finished, Available, Finished)"
          },
          "metadata": {}
        }
      ],
      "metadata": {},
      "source": [
        "from pyspark.sql.functions import *"
      ]
    },
    {
      "cell_type": "code",
      "execution_count": 30,
      "outputs": [
        {
          "output_type": "display_data",
          "data": {
            "application/vnd.livy.statement-meta+json": {
              "spark_pool": "vnpaypool3",
              "statement_id": 31,
              "statement_ids": [
                31
              ],
              "state": "finished",
              "livy_statement_state": "available",
              "spark_jobs": null,
              "session_id": "18",
              "normalized_state": "finished",
              "queued_time": "2025-08-29T22:05:39.7451932Z",
              "session_start_time": null,
              "execution_start_time": "2025-08-29T22:05:39.9140485Z",
              "execution_finish_time": "2025-08-29T22:05:40.1732904Z",
              "parent_msg_id": "5c6ae7b2-3399-4aae-b401-b0e3c3b6e2e0"
            },
            "text/plain": "StatementMeta(vnpaypool3, 18, 31, Finished, Available, Finished)"
          },
          "metadata": {}
        }
      ],
      "metadata": {},
      "source": [
        "#Set the folder paths so that it can be used later. \n",
        "bronze_folder_path = 'abfss://bronze@vnpayproject.dfs.core.windows.net/'\n",
        "silver_folder_path = 'abfss://silver@vnpayproject.dfs.core.windows.net/'\n",
        "gold_folder_path = 'abfss://gold@vnpayproject.dfs.core.windows.net/'"
      ]
    },
    {
      "cell_type": "code",
      "execution_count": 31,
      "outputs": [
        {
          "output_type": "display_data",
          "data": {
            "application/vnd.livy.statement-meta+json": {
              "spark_pool": "vnpaypool3",
              "statement_id": 32,
              "statement_ids": [
                32
              ],
              "state": "finished",
              "livy_statement_state": "available",
              "spark_jobs": null,
              "session_id": "18",
              "normalized_state": "finished",
              "queued_time": "2025-08-29T22:05:39.9240388Z",
              "session_start_time": null,
              "execution_start_time": "2025-08-29T22:05:40.1872263Z",
              "execution_finish_time": "2025-08-29T22:05:40.8033306Z",
              "parent_msg_id": "38d068bb-a148-436e-a8f7-b7eb04e97554"
            },
            "text/plain": "StatementMeta(vnpaypool3, 18, 32, Finished, Available, Finished)"
          },
          "metadata": {}
        }
      ],
      "metadata": {
        "microsoft": {},
        "collapsed": false
      },
      "source": [
        "# Read the table into a DataFrame\n",
        "df = spark.table(\"vnpay_silver_spark.alltransaction_fact\")"
      ]
    },
    {
      "cell_type": "code",
      "execution_count": 32,
      "outputs": [
        {
          "output_type": "display_data",
          "data": {
            "application/vnd.livy.statement-meta+json": {
              "spark_pool": "vnpaypool3",
              "statement_id": 33,
              "statement_ids": [
                33
              ],
              "state": "finished",
              "livy_statement_state": "available",
              "spark_jobs": null,
              "session_id": "18",
              "normalized_state": "finished",
              "queued_time": "2025-08-29T22:05:40.0521763Z",
              "session_start_time": null,
              "execution_start_time": "2025-08-29T22:05:40.817461Z",
              "execution_finish_time": "2025-08-29T22:05:42.6892851Z",
              "parent_msg_id": "49c98375-5e36-4446-ba14-724fbfbe51f4"
            },
            "text/plain": "StatementMeta(vnpaypool3, 18, 33, Finished, Available, Finished)"
          },
          "metadata": {}
        },
        {
          "output_type": "display_data",
          "data": {
            "application/vnd.synapse.widget-view+json": {
              "widget_id": "8ac59ee4-0cd6-44c0-a698-abcc0954a16d",
              "widget_type": "Synapse.DataFrame"
            },
            "text/plain": "SynapseWidget(Synapse.DataFrame, 8ac59ee4-0cd6-44c0-a698-abcc0954a16d)"
          },
          "metadata": {}
        }
      ],
      "metadata": {
        "collapsed": false
      },
      "source": [
        "display(df.limit(5))"
      ]
    },
    {
      "cell_type": "code",
      "execution_count": 33,
      "outputs": [
        {
          "output_type": "display_data",
          "data": {
            "application/vnd.livy.statement-meta+json": {
              "spark_pool": "vnpaypool3",
              "statement_id": 34,
              "statement_ids": [
                34
              ],
              "state": "finished",
              "livy_statement_state": "available",
              "spark_jobs": null,
              "session_id": "18",
              "normalized_state": "finished",
              "queued_time": "2025-08-29T22:05:40.3379304Z",
              "session_start_time": null,
              "execution_start_time": "2025-08-29T22:05:42.7062864Z",
              "execution_finish_time": "2025-08-29T22:05:44.5972861Z",
              "parent_msg_id": "1f7c520a-d7cd-4a54-b9ec-675f2f3427da"
            },
            "text/plain": "StatementMeta(vnpaypool3, 18, 34, Finished, Available, Finished)"
          },
          "metadata": {}
        },
        {
          "output_type": "display_data",
          "data": {
            "application/vnd.synapse.widget-view+json": {
              "widget_id": "404306af-85f5-4f57-9822-588935ca22ac",
              "widget_type": "Synapse.DataFrame"
            },
            "text/plain": "SynapseWidget(Synapse.DataFrame, 404306af-85f5-4f57-9822-588935ca22ac)"
          },
          "metadata": {}
        }
      ],
      "metadata": {
        "collapsed": false
      },
      "source": [
        "new_df = df.select(\n",
        "    col(\"ma_gd\").alias(\"txn_id\"),\n",
        "    col(\"ten_merchant\").alias(\"merchant\"),\n",
        "    col(\"master_mc\").alias(\"master_merchant\"),\n",
        "    col(\"ma_ten_terminal\").alias(\"terminal\"),\n",
        "    col(\"kenh_thanh_toan\").alias(\"payment_method\"),\n",
        "    col(\"ten_kh_thanh_toan\").alias(\"user_name\"),\n",
        "    col(\"so_dien_thoai\").alias(\"phone\"),\n",
        "    col(\"don_vi_tt\").alias(\"issuer\"),\n",
        "    col(\"so_tai_khoan\").alias(\"account_number\"),\n",
        "    col(\"loai_the_tai_khoan\").alias(\"account_type\"),\n",
        "    col(\"so_tien_truoc_km\").alias(\"org_amount\"),\n",
        "    col(\"so_tien_sau_km\").alias(\"final_amount\"),\n",
        "    (col(\"so_tien_truoc_km\") - col(\"so_tien_sau_km\")).alias(\"promotion_amount\"),\n",
        "    col(\"thoi_gian_thanh_toan\").alias(\"payment_time\"),\n",
        "    to_date(col(\"thoi_gian_thanh_toan\")).alias(\"payment_date\"),\n",
        "    col(\"year\"),\n",
        "    col(\"month\"),\n",
        "    col(\"trang_thai\").alias(\"payment_status\"),\n",
        "    col(\"mcc_noi_dia\").alias(\"domestic_mcc\"),\n",
        "    col(\"mcc_quoc_te\").alias(\"int_mcc\"),\n",
        "    col(\"user_id\"),\n",
        "    col(\"terminal_id\"),\n",
        "    col(\"issuer_id\"),\n",
        "    col(\"merchant_id\"),\n",
        "    col(\"master_merchant_id\")\n",
        ").filter((col(\"year\").isNotNull()) & (col(\"year\") != 2006))\n",
        "\n",
        "display(new_df.limit(10))"
      ]
    },
    {
      "cell_type": "code",
      "execution_count": 34,
      "outputs": [
        {
          "output_type": "display_data",
          "data": {
            "application/vnd.livy.statement-meta+json": {
              "spark_pool": "vnpaypool3",
              "statement_id": 35,
              "statement_ids": [
                35
              ],
              "state": "finished",
              "livy_statement_state": "available",
              "spark_jobs": null,
              "session_id": "18",
              "normalized_state": "finished",
              "queued_time": "2025-08-29T22:05:40.5911209Z",
              "session_start_time": null,
              "execution_start_time": "2025-08-29T22:05:44.6106458Z",
              "execution_finish_time": "2025-08-29T22:12:06.3677694Z",
              "parent_msg_id": "8651f1df-48cd-4130-b608-13d7cb400f24"
            },
            "text/plain": "StatementMeta(vnpaypool3, 18, 35, Finished, Available, Finished)"
          },
          "metadata": {}
        }
      ],
      "metadata": {},
      "source": [
        "# Write to Delta Lake with partition by year and month\n",
        "new_df.write \\\n",
        "    .format(\"delta\") \\\n",
        "    .mode(\"overwrite\") \\\n",
        "    .partitionBy(\"year\", \"month\") \\\n",
        "    .save(f\"{gold_folder_path}/alltransaction_fact\")"
      ]
    },
    {
      "cell_type": "code",
      "execution_count": 35,
      "outputs": [
        {
          "output_type": "display_data",
          "data": {
            "application/vnd.livy.statement-meta+json": {
              "spark_pool": "vnpaypool3",
              "statement_id": 36,
              "statement_ids": [
                36
              ],
              "state": "finished",
              "livy_statement_state": "available",
              "spark_jobs": null,
              "session_id": "18",
              "normalized_state": "finished",
              "queued_time": "2025-08-29T22:05:40.6995388Z",
              "session_start_time": null,
              "execution_start_time": "2025-08-29T22:12:06.3886499Z",
              "execution_finish_time": "2025-08-29T22:12:07.0016233Z",
              "parent_msg_id": "e8b76e25-0a57-4f11-939a-bc6a175d088d"
            },
            "text/plain": "StatementMeta(vnpaypool3, 18, 36, Finished, Available, Finished)"
          },
          "metadata": {}
        },
        {
          "output_type": "execute_result",
          "data": {
            "text/plain": "DataFrame[]"
          },
          "execution_count": 73,
          "metadata": {}
        }
      ],
      "metadata": {},
      "source": [
        "# Create External Table pointing to existing Delta Lake location\n",
        "spark.sql(f\"\"\"\n",
        "    CREATE TABLE IF NOT EXISTS vnpay_gold_spark.alltransaction_fact\n",
        "    USING DELTA\n",
        "    LOCATION '{gold_folder_path}/alltransaction_fact'\n",
        "\"\"\")"
      ]
    }
  ]
}