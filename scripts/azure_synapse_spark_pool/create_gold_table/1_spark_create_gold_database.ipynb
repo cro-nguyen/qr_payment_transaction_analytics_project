{
  "nbformat": 4,
  "nbformat_minor": 2,
  "metadata": {
    "language_info": {
      "name": "python"
    },
    "kernelspec": {
      "name": "synapse_pyspark",
      "display_name": "python"
    },
    "description": null,
    "save_output": true,
    "synapse_widget": {
      "version": "0.1",
      "state": {}
    }
  },
  "cells": [
    {
      "cell_type": "code",
      "execution_count": 1,
      "outputs": [
        {
          "output_type": "display_data",
          "data": {
            "application/vnd.livy.statement-meta+json": {
              "spark_pool": "vnpaypool3",
              "statement_id": 1,
              "statement_ids": [
                1
              ],
              "state": "finished",
              "livy_statement_state": "available",
              "spark_jobs": null,
              "session_id": "10",
              "normalized_state": "finished",
              "queued_time": "2025-08-28T19:13:44.5962422Z",
              "session_start_time": "2025-08-28T19:13:44.5971311Z",
              "execution_start_time": "2025-08-28T19:15:09.4925808Z",
              "execution_finish_time": "2025-08-28T19:15:20.1160098Z",
              "parent_msg_id": "00497936-f20a-48fa-b09d-9730aad10e04"
            },
            "text/plain": "StatementMeta(vnpaypool3, 10, 1, Finished, Available, Finished)"
          },
          "metadata": {}
        },
        {
          "output_type": "execute_result",
          "data": {
            "application/vnd.synapse.sparksql-result+json": {
              "schema": {
                "type": "struct",
                "fields": []
              },
              "data": []
            },
            "text/plain": "<Spark SQL result set with 0 rows and 0 fields>"
          },
          "execution_count": 1,
          "metadata": {}
        }
      ],
      "metadata": {
        "microsoft": {
          "language": "sparksql"
        },
        "collapsed": false
      },
      "source": [
        "%%sql\n",
        "\n",
        "-- Create database to which we are going to write the data\n",
        "\n",
        "CREATE DATABASE IF NOT EXISTS vnpay_gold_spark\n",
        "LOCATION 'abfss://gold@vnpayproject.dfs.core.windows.net/';"
      ]
    }
  ]
}