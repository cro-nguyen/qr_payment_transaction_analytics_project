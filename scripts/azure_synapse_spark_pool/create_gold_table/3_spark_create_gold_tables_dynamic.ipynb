{
  "nbformat": 4,
  "nbformat_minor": 2,
  "metadata": {
    "language_info": {
      "name": "python"
    },
    "kernelspec": {
      "name": "synapse_pyspark",
      "display_name": "python"
    },
    "description": null,
    "save_output": true,
    "synapse_widget": {
      "version": "0.1",
      "state": {}
    }
  },
  "cells": [
    {
      "cell_type": "code",
      "execution_count": 29,
      "outputs": [
        {
          "output_type": "display_data",
          "data": {
            "application/vnd.livy.statement-meta+json": {
              "spark_pool": "vnpaypool3",
              "statement_id": 32,
              "statement_ids": [
                32
              ],
              "state": "finished",
              "livy_statement_state": "available",
              "spark_jobs": null,
              "session_id": "16",
              "normalized_state": "finished",
              "queued_time": "2025-08-29T00:39:56.7409027Z",
              "session_start_time": null,
              "execution_start_time": "2025-08-29T00:39:56.7421137Z",
              "execution_finish_time": "2025-08-29T00:39:56.9742764Z",
              "parent_msg_id": "976e8c98-1325-4319-b992-252daedefaa3"
            },
            "text/plain": "StatementMeta(vnpaypool3, 16, 32, Finished, Available, Finished)"
          },
          "metadata": {}
        }
      ],
      "metadata": {},
      "source": [
        "# Manual input for table name\n",
        "table_name = 'user_lookup'\n",
        "database_name = \"vnpay_gold_spark\""
      ]
    },
    {
      "cell_type": "code",
      "execution_count": 30,
      "outputs": [
        {
          "output_type": "display_data",
          "data": {
            "application/vnd.livy.statement-meta+json": {
              "spark_pool": "vnpaypool3",
              "statement_id": 33,
              "statement_ids": [
                33
              ],
              "state": "finished",
              "livy_statement_state": "available",
              "spark_jobs": null,
              "session_id": "16",
              "normalized_state": "finished",
              "queued_time": "2025-08-29T00:39:56.8023973Z",
              "session_start_time": null,
              "execution_start_time": "2025-08-29T00:39:56.988509Z",
              "execution_finish_time": "2025-08-29T00:39:57.2393947Z",
              "parent_msg_id": "35299d4d-fa8c-4a88-a201-86e14ce9b02c"
            },
            "text/plain": "StatementMeta(vnpaypool3, 16, 33, Finished, Available, Finished)"
          },
          "metadata": {}
        }
      ],
      "metadata": {},
      "source": [
        "# Set the folder paths\n",
        "bronze_folder_path = 'abfss://bronze@vnpayproject.dfs.core.windows.net/'\n",
        "silver_folder_path = 'abfss://silver@vnpayproject.dfs.core.windows.net/'\n",
        "gold_folder_path = 'abfss://gold@vnpayproject.dfs.core.windows.net/'"
      ]
    },
    {
      "cell_type": "code",
      "execution_count": 31,
      "outputs": [
        {
          "output_type": "display_data",
          "data": {
            "application/vnd.livy.statement-meta+json": {
              "spark_pool": "vnpaypool3",
              "statement_id": 34,
              "statement_ids": [
                34
              ],
              "state": "finished",
              "livy_statement_state": "available",
              "spark_jobs": null,
              "session_id": "16",
              "normalized_state": "finished",
              "queued_time": "2025-08-29T00:39:56.9866293Z",
              "session_start_time": null,
              "execution_start_time": "2025-08-29T00:39:57.2541786Z",
              "execution_finish_time": "2025-08-29T00:39:57.4738059Z",
              "parent_msg_id": "d61493f2-e1af-452b-bcb1-202137765497"
            },
            "text/plain": "StatementMeta(vnpaypool3, 16, 34, Finished, Available, Finished)"
          },
          "metadata": {}
        },
        {
          "output_type": "stream",
          "name": "stdout",
          "text": [
            "Source: abfss://silver@vnpayproject.dfs.core.windows.net//user_lookup\nTarget: abfss://gold@vnpayproject.dfs.core.windows.net//user_lookup\n"
          ]
        }
      ],
      "metadata": {},
      "source": [
        "# Display current configuration\n",
        "print(f\"Source: {silver_folder_path}/{table_name}\")\n",
        "print(f\"Target: {gold_folder_path}/{table_name}\")"
      ]
    },
    {
      "cell_type": "code",
      "execution_count": 32,
      "outputs": [
        {
          "output_type": "display_data",
          "data": {
            "application/vnd.livy.statement-meta+json": {
              "spark_pool": "vnpaypool3",
              "statement_id": 35,
              "statement_ids": [
                35
              ],
              "state": "finished",
              "livy_statement_state": "available",
              "spark_jobs": null,
              "session_id": "16",
              "normalized_state": "finished",
              "queued_time": "2025-08-29T00:39:57.0972324Z",
              "session_start_time": null,
              "execution_start_time": "2025-08-29T00:39:57.4865831Z",
              "execution_finish_time": "2025-08-29T00:40:20.4431324Z",
              "parent_msg_id": "6d0e3cf2-e0d8-4d63-a3a2-5239c3c8c47d"
            },
            "text/plain": "StatementMeta(vnpaypool3, 16, 35, Finished, Available, Finished)"
          },
          "metadata": {}
        }
      ],
      "metadata": {},
      "source": [
        "# Read from Silver Delta Lake\n",
        "df = spark.read.format(\"delta\") \\\n",
        "    .option(\"mergeSchema\", \"false\") \\\n",
        "    .load(f\"{silver_folder_path}/{table_name}\")\n",
        "\n",
        "# Write to Gold Delta Lake\n",
        "df.write \\\n",
        "    .format(\"delta\") \\\n",
        "    .mode(\"overwrite\") \\\n",
        "    .save(f\"{gold_folder_path}/{table_name}\")"
      ]
    },
    {
      "cell_type": "code",
      "execution_count": 33,
      "outputs": [
        {
          "output_type": "display_data",
          "data": {
            "application/vnd.livy.statement-meta+json": {
              "spark_pool": "vnpaypool3",
              "statement_id": 36,
              "statement_ids": [
                36
              ],
              "state": "finished",
              "livy_statement_state": "available",
              "spark_jobs": null,
              "session_id": "16",
              "normalized_state": "finished",
              "queued_time": "2025-08-29T00:39:57.313749Z",
              "session_start_time": null,
              "execution_start_time": "2025-08-29T00:40:20.4576962Z",
              "execution_finish_time": "2025-08-29T00:40:23.2693814Z",
              "parent_msg_id": "9247525a-f286-486c-8eb0-698212633859"
            },
            "text/plain": "StatementMeta(vnpaypool3, 16, 36, Finished, Available, Finished)"
          },
          "metadata": {}
        },
        {
          "output_type": "execute_result",
          "data": {
            "text/plain": "DataFrame[]"
          },
          "execution_count": 73,
          "metadata": {}
        }
      ],
      "metadata": {},
      "source": [
        "# Create external table\n",
        "spark.sql(f\"\"\"\n",
        "    CREATE TABLE IF NOT EXISTS {database_name}.{table_name}\n",
        "    USING DELTA\n",
        "    LOCATION '{gold_folder_path}/{table_name}'\n",
        "\"\"\")"
      ]
    }
  ]
}